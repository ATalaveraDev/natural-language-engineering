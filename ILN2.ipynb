{
  "nbformat": 4,
  "nbformat_minor": 0,
  "metadata": {
    "colab": {
      "name": "ILN2.ipynb",
      "provenance": [],
      "collapsed_sections": [],
      "include_colab_link": true
    },
    "kernelspec": {
      "name": "python3",
      "display_name": "Python 3"
    }
  },
  "cells": [
    {
      "cell_type": "markdown",
      "metadata": {
        "id": "view-in-github",
        "colab_type": "text"
      },
      "source": [
        "<a href=\"https://colab.research.google.com/github/ATalaveraDev/natural-language-engineering/blob/main/ILN2.ipynb\" target=\"_parent\"><img src=\"https://colab.research.google.com/assets/colab-badge.svg\" alt=\"Open In Colab\"/></a>"
      ]
    },
    {
      "cell_type": "markdown",
      "metadata": {
        "id": "_c4TPRZW5vkm"
      },
      "source": [
        "## Tarea ILN2: efectos del tamaño del corpus de entranamiento"
      ]
    },
    {
      "cell_type": "markdown",
      "metadata": {
        "id": "PsS7UXLT55sd"
      },
      "source": [
        "Los etiquetadores basados en sistemas de aprendizaje necesitan de un conjunto de datos de entrenamiento mínimo para aprender modelos que ofrezcan un desempeño aceptable. En esta tarea se trata de mostrar la evolución de la precisión de un etiquetador conforme aumenta el tamaño del corpus de entrenamiento. \n",
        "Para ello tenga en cuenta las siguientes consideraciones:\n",
        "- El corpus se dividirá en dos particiones: 90% para training y 10% para test (las mismas particiones utilizadas que en el ejercicio 3).\n",
        "- La partición de training se dividirá a su vez en 10 partes iguales.\n",
        "- Deberá realizar 10 iteraciones empezando con la partición de training 1, y sumando en cada una de ellas una partición al corpus de entrenamiento. \n",
        "- En cada iteración se entrenará y evaluará el etiquetador obteniendo la correspondiente precisión.\n",
        "- Finalmente se representará gráficamente la evolución de la precisión en cada iteración.\n",
        "\n"
      ]
    },
    {
      "cell_type": "code",
      "metadata": {
        "colab": {
          "base_uri": "https://localhost:8080/"
        },
        "id": "JWWd6lu1i7HA",
        "outputId": "ebdc7556-69db-49b5-e7bc-57761a901d87"
      },
      "source": [
        "import nltk\n",
        "nltk.download('cess_esp')\n",
        "from nltk.corpus import cess_esp\n",
        "import pprint\n",
        "from nltk.tag import UnigramTagger, BigramTagger, TrigramTagger\n",
        "from nltk.corpus import treebank\n",
        "\n",
        "nltk.download('treebank')\n",
        "nltk.download('brown')\n",
        "nltk.download('universal_tagset')\n",
        "nltk.download('tagsets')"
      ],
      "execution_count": 3,
      "outputs": [
        {
          "output_type": "stream",
          "text": [
            "[nltk_data] Downloading package cess_esp to /root/nltk_data...\n",
            "[nltk_data]   Unzipping corpora/cess_esp.zip.\n",
            "[nltk_data] Downloading package treebank to /root/nltk_data...\n",
            "[nltk_data]   Unzipping corpora/treebank.zip.\n",
            "[nltk_data] Downloading package brown to /root/nltk_data...\n",
            "[nltk_data]   Unzipping corpora/brown.zip.\n",
            "[nltk_data] Downloading package universal_tagset to /root/nltk_data...\n",
            "[nltk_data]   Unzipping taggers/universal_tagset.zip.\n",
            "[nltk_data] Downloading package tagsets to /root/nltk_data...\n",
            "[nltk_data]   Unzipping help/tagsets.zip.\n"
          ],
          "name": "stdout"
        },
        {
          "output_type": "execute_result",
          "data": {
            "text/plain": [
              "True"
            ]
          },
          "metadata": {
            "tags": []
          },
          "execution_count": 3
        }
      ]
    },
    {
      "cell_type": "markdown",
      "metadata": {
        "id": "KnDKDUvyVIog"
      },
      "source": [
        "**1.-** Realice el experimento para el corpus treebank con el conjunto de etiquetas universal, utilizando el modelo de trigramas suavizado con backoff de bigramas. "
      ]
    },
    {
      "cell_type": "code",
      "metadata": {
        "id": "anMKSfRI5u0y"
      },
      "source": [
        "def chunks(lst, n):\n",
        "    for i in range(0, len(lst), n):\n",
        "        yield lst[i:i + n]"
      ],
      "execution_count": 18,
      "outputs": []
    },
    {
      "cell_type": "code",
      "metadata": {
        "colab": {
          "base_uri": "https://localhost:8080/"
        },
        "id": "gCGR_1Ksj34W",
        "outputId": "a0365054-cabc-4259-bfc4-f60426a8861e"
      },
      "source": [
        "def experiment(test_s, train_s):\n",
        "  test_data = []\n",
        "  x_values = []\n",
        "  y_values = []\n",
        "\n",
        "  for i in test_s:\n",
        "    test_data.extend(i)\n",
        "    x_values.append(len(test_data))\n",
        "    # Aprender el modelo de Trigramas\n",
        "    trigram_tagger = TrigramTagger(train_s)\n",
        "    # Etiquetar\n",
        "    sent1=treebank.sents()[talla]\n",
        "    # Evaluar\n",
        "    okTri = round(trigram_tagger.evaluate(test_data) * 100, 2);\n",
        "    y_values.append(okTri)\n",
        "    print(\"Tasas de acierto:\")\n",
        "    print(\"Trigramas: \" + str(okTri) + \"%\")\n",
        "  test_data = []\n",
        "  print(\"La media de los valores es: \", sum(y_values)/len(y_values))\n",
        "  return { 'x_values': x_values, 'y_values': y_values }\n",
        "\n",
        "# definicion del corpus de entrenamiento\n",
        "universal_results = []\n",
        "talla = int(len(treebank.tagged_sents()) * 0.9)\n",
        "train_sents = treebank.tagged_sents(tagset = 'universal')[:talla]\n",
        "test_sents = treebank.tagged_sents(tagset = 'universal')[talla:]\n",
        "test_set = list(chunks(test_sents, int(len(test_sents)/10)))[:10]\n",
        "\n",
        "universal_results = experiment(test_set, train_sents)"
      ],
      "execution_count": 44,
      "outputs": [
        {
          "output_type": "stream",
          "text": [
            "Tasas de acierto:\n",
            "Trigramas: 6.43%\n",
            "Tasas de acierto:\n",
            "Trigramas: 7.5%\n",
            "Tasas de acierto:\n",
            "Trigramas: 8.86%\n",
            "Tasas de acierto:\n",
            "Trigramas: 8.39%\n",
            "Tasas de acierto:\n",
            "Trigramas: 8.95%\n",
            "Tasas de acierto:\n",
            "Trigramas: 8.54%\n",
            "Tasas de acierto:\n",
            "Trigramas: 8.97%\n",
            "Tasas de acierto:\n",
            "Trigramas: 8.95%\n",
            "Tasas de acierto:\n",
            "Trigramas: 9.03%\n",
            "Tasas de acierto:\n",
            "Trigramas: 9.06%\n",
            "La media de los valores es:  8.468\n"
          ],
          "name": "stdout"
        }
      ]
    },
    {
      "cell_type": "markdown",
      "metadata": {
        "id": "xb28tu_yVpRW"
      },
      "source": [
        "**2.-** Realice el mismo experimento con el juego de etiquetas original del corpus."
      ]
    },
    {
      "cell_type": "code",
      "metadata": {
        "id": "WlD9gveXB_Ap",
        "colab": {
          "base_uri": "https://localhost:8080/"
        },
        "outputId": "16ea225c-a1f2-45f4-ec9f-6d12f930d782"
      },
      "source": [
        "original_results = []\n",
        "original_talla = int(len(treebank.tagged_sents()) * 0.9)\n",
        "original_train_sents = treebank.tagged_sents()[:original_talla]\n",
        "original_test_sents = treebank.tagged_sents()[original_talla:]\n",
        "original_test_set = list(chunks(original_test_sents, int(len(original_test_sents)/10)))[:10]\n",
        "\n",
        "original_results = experiment(original_test_set, original_train_sents)\n",
        "print(original_results)"
      ],
      "execution_count": 45,
      "outputs": [
        {
          "output_type": "stream",
          "text": [
            "Tasas de acierto:\n",
            "Trigramas: 6.02%\n",
            "Tasas de acierto:\n",
            "Trigramas: 6.0%\n",
            "Tasas de acierto:\n",
            "Trigramas: 7.46%\n",
            "Tasas de acierto:\n",
            "Trigramas: 7.14%\n",
            "Tasas de acierto:\n",
            "Trigramas: 7.87%\n",
            "Tasas de acierto:\n",
            "Trigramas: 7.59%\n",
            "Tasas de acierto:\n",
            "Trigramas: 7.85%\n",
            "Tasas de acierto:\n",
            "Trigramas: 7.72%\n",
            "Tasas de acierto:\n",
            "Trigramas: 7.81%\n",
            "Tasas de acierto:\n",
            "Trigramas: 7.89%\n",
            "La media de los valores es:  7.334999999999999\n",
            "{'x_values': [39, 78, 117, 156, 195, 234, 273, 312, 351, 390], 'y_values': [6.02, 6.0, 7.46, 7.14, 7.87, 7.59, 7.85, 7.72, 7.81, 7.89]}\n"
          ],
          "name": "stdout"
        }
      ]
    },
    {
      "cell_type": "markdown",
      "metadata": {
        "id": "EqJnAma3V5cI"
      },
      "source": [
        "**3.-** Represente gráficamente el resultado en una gráfica donde el **eje x** representa el número de oraciones de entrenamiento (talla) y el **eje y** la precisión del etiquetador. \n",
        "\n",
        "Para realizar una gráfica puede utilizar *pyplot*. En la red encontrará tutoriales sobre la librería. Este es un ejemplo básico de uso:\n",
        "\n",
        "\n"
      ]
    },
    {
      "cell_type": "code",
      "metadata": {
        "colab": {
          "base_uri": "https://localhost:8080/",
          "height": 296
        },
        "id": "or1lTilvZf-q",
        "outputId": "63ea4539-5c43-47a0-b106-0b45b1dc4a80"
      },
      "source": [
        "import matplotlib.pyplot as plt\n",
        "\n",
        "print(original_results['x_values'])\n",
        "plt.ylabel(\"Precision\") \n",
        "plt.xlabel(\"Num. Oraciones\")\n",
        "plt.plot(universal_results['x_values'], universal_results['y_values'], label=\"Universal Corpus\")\n",
        "plt.plot(original_results['x_values'], original_results['y_values'], label=\"Original Corpus\")\n",
        "plt.legend()\n",
        "plt.show()"
      ],
      "execution_count": 43,
      "outputs": [
        {
          "output_type": "stream",
          "text": [
            "[39, 78, 117, 156, 195, 234, 273, 312, 351, 390]\n"
          ],
          "name": "stdout"
        },
        {
          "output_type": "display_data",
          "data": {
            "image/png": "[encoded data removed]",
            "text/plain": [
              "<Figure size 432x288 with 1 Axes>"
            ]
          },
          "metadata": {
            "tags": [],
            "needs_background": "light"
          }
        }
      ]
    },
    {
      "cell_type": "code",
      "metadata": {
        "id": "ugezcYzrdEJ-"
      },
      "source": [
        ""
      ],
      "execution_count": null,
      "outputs": []
    },
    {
      "cell_type": "markdown",
      "metadata": {
        "id": "tDrwEtcmcxz4"
      },
      "source": [
        "## Por favor, indica cuánto tiempo te ha costado realizar la tarea y su dificultad: fácil, término medio, difícil"
      ]
    },
    {
      "cell_type": "markdown",
      "metadata": {
        "id": "62PXvvupc9tE"
      },
      "source": [
        "Tiempo: 3 horas\n",
        "\n",
        "Dificultad: Difícil"
      ]
    }
  ]
}