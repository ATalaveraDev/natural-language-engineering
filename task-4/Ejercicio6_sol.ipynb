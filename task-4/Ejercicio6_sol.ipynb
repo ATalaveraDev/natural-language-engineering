{
  "nbformat": 4,
  "nbformat_minor": 0,
  "metadata": {
    "kernelspec": {
      "display_name": "Python 3",
      "language": "python",
      "name": "python3"
    },
    "language_info": {
      "codemirror_mode": {
        "name": "ipython",
        "version": 3
      },
      "file_extension": ".py",
      "mimetype": "text/x-python",
      "name": "python",
      "nbconvert_exporter": "python",
      "pygments_lexer": "ipython3",
      "version": "3.7.1"
    },
    "colab": {
      "name": "Ejercicio6_sol.ipynb",
      "provenance": [],
      "collapsed_sections": []
    }
  },
  "cells": [
    {
      "cell_type": "markdown",
      "metadata": {
        "id": "ldEAbbMrmZnq"
      },
      "source": [
        "## Ejercicio 6: Análisis Sintáctico"
      ]
    },
    {
      "cell_type": "markdown",
      "metadata": {
        "id": "mPGZ4qT3mZnw"
      },
      "source": [
        "Para la realización de estos ejercicios debe consultar el capítulo 8 de [http://www.nltk.org/book/](http://www.nltk.org/book/ch08.html)"
      ]
    },
    {
      "cell_type": "markdown",
      "metadata": {
        "id": "7_HAonMxmZnw"
      },
      "source": [
        "Escribe una función en Python que reciba como parámetros una gramática incontextual y una oración a analizar. La función mostrará el árbol sintáctico de la oración, en caso de que ésta sea correcta según la gramática dada. Si la oración no es correcta, mostrará el mensaje \"Oración no reconocida\". En caso de ser ambigua, mostrará el mensaje \"Oración ambigua\" y visualizará todos los árboles sintácticos posibles.\n",
        "\n",
        "Utiliza el analizador sintáctico *RecursiveDescentParser* incluido en la distribución nltk. \n",
        "Prueba con la gramática dada, *gramatica.cfg*, y con las siguientes oraciones:\n",
        "\n",
        "*\"¿ Qué mares bañan Andalucía ?\"*\n",
        "\n",
        "*\"¿ El río Ebro pasa por el País_vasco ?\"*\n",
        "\n",
        "*\"¿ Cuántos ríos desembocan en el mar Mediterráneo ?\"*\n",
        "\n",
        "*\"El río Ebro por pasa el País_vasco .\"*\n"
      ]
    },
    {
      "cell_type": "code",
      "metadata": {
        "id": "v-BbmnnkmZnx"
      },
      "source": [
        "#Escribe aquí tu código Python y ejecútalo\n",
        "import nltk \n",
        "\n",
        "def analisis_sintactico(sent, grammar):\n",
        "    file = open(grammar,'r').read()\n",
        "    grammar = nltk.CFG.fromstring(file)\n",
        "    sent_splited = sent.split()\n",
        "    rd_parser = nltk.parse.RecursiveDescentParser(grammar)\n",
        "    trees = list(rd_parser.parse(sent_splited))\n",
        "    if len(trees) == 0:\n",
        "      print('Oración no reconocida')\n",
        "    else:\n",
        "      if len(trees) > 1:\n",
        "        print('Oración Ambigua con ' + str(len(trees)) +' árboles sintácticos')\n",
        "      for tree in trees:\n",
        "        print(tree)\n",
        "    "
      ],
      "execution_count": 7,
      "outputs": []
    },
    {
      "cell_type": "code",
      "metadata": {
        "colab": {
          "base_uri": "https://localhost:8080/"
        },
        "id": "_-a8CxWzmZnx",
        "outputId": "e586f723-a2d8-4796-d20f-015b8c6693e5"
      },
      "source": [
        "analisis_sintactico(\"¿ Qué mares bañan Andalucía ?\",'gramatica.cfg')"
      ],
      "execution_count": 3,
      "outputs": [
        {
          "output_type": "stream",
          "text": [
            "(S\n",
            "  (S_int\n",
            "    (Fia ¿)\n",
            "    (SN_int (DT Qué) (NOMINAL (NC mares)))\n",
            "    (SV (VMI bañan) (SN (NOMINAL (NP Andalucía))))\n",
            "    (Fit ?)))\n"
          ],
          "name": "stdout"
        }
      ]
    },
    {
      "cell_type": "code",
      "metadata": {
        "colab": {
          "base_uri": "https://localhost:8080/"
        },
        "id": "H1GFB0v5mZnz",
        "outputId": "b322b135-3732-4838-9f69-c72bc457916e"
      },
      "source": [
        "analisis_sintactico(\"¿ El río Ebro pasa por el País_vasco ?\", 'gramatica.cfg')"
      ],
      "execution_count": 4,
      "outputs": [
        {
          "output_type": "stream",
          "text": [
            "(S\n",
            "  (S_sino\n",
            "    (Fia ¿)\n",
            "    (SN (DA El) (NOMINAL (NC río) (NP Ebro)))\n",
            "    (SV\n",
            "      (VMI pasa)\n",
            "      (SP (SPS por) (SN (DA el) (NOMINAL (NP País_vasco)))))\n",
            "    (Fit ?)))\n"
          ],
          "name": "stdout"
        }
      ]
    },
    {
      "cell_type": "code",
      "metadata": {
        "colab": {
          "base_uri": "https://localhost:8080/"
        },
        "id": "nGEMElBymZnz",
        "outputId": "731eac64-e847-4c4e-9d87-e8db307dfec8"
      },
      "source": [
        "analisis_sintactico(\"¿ Cuántos ríos desembocan en el mar Mediterráneo ?\", 'gramatica.cfg')"
      ],
      "execution_count": 5,
      "outputs": [
        {
          "output_type": "stream",
          "text": [
            "(S\n",
            "  (S_int\n",
            "    (Fia ¿)\n",
            "    (SN_int (DT Cuántos) (NOMINAL (NC ríos)))\n",
            "    (SV\n",
            "      (VMI desembocan)\n",
            "      (SP (SPS en) (SN (DA el) (NOMINAL (NC mar) (NP Mediterráneo)))))\n",
            "    (Fit ?)))\n"
          ],
          "name": "stdout"
        }
      ]
    },
    {
      "cell_type": "code",
      "metadata": {
        "id": "9itIhcsKmZnz",
        "colab": {
          "base_uri": "https://localhost:8080/"
        },
        "outputId": "97d03460-3d30-4019-96a0-fd29b04a9c59"
      },
      "source": [
        "analisis_sintactico(\"El río Ebro por pasa el País_vasco .\", 'gramatica.cfg')"
      ],
      "execution_count": 6,
      "outputs": [
        {
          "output_type": "stream",
          "text": [
            "Oración no reconocida\n"
          ],
          "name": "stdout"
        }
      ]
    }
  ]
}