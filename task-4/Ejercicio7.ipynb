{
  "nbformat": 4,
  "nbformat_minor": 0,
  "metadata": {
    "kernelspec": {
      "display_name": "Python 3",
      "language": "python",
      "name": "python3"
    },
    "language_info": {
      "codemirror_mode": {
        "name": "ipython",
        "version": 3
      },
      "file_extension": ".py",
      "mimetype": "text/x-python",
      "name": "python",
      "nbconvert_exporter": "python",
      "pygments_lexer": "ipython3",
      "version": "3.7.1"
    },
    "colab": {
      "name": "Ejercicio7.ipynb",
      "provenance": [],
      "collapsed_sections": []
    }
  },
  "cells": [
    {
      "cell_type": "markdown",
      "metadata": {
        "id": "UFpFZi7LLQ_x"
      },
      "source": [
        "# Ejercicio7: Análisis Sintáctico"
      ]
    },
    {
      "cell_type": "markdown",
      "metadata": {
        "id": "-qz2SOVCLQ_5"
      },
      "source": [
        "Modifica la gramática anterior para que reconozca las oraciones siguientes. \n",
        "\n",
        "*¿ Qué río pasa por el País_vasco con más caudal ?*\n",
        "\n",
        "*¿ Qué río pasa por la comunidad con más habitantes ?*\n",
        "\n",
        "Para ello, tendrás que aumentar la gramática dada (*gramatica.cfg*) para permitir que un Sintagma Preposicional actúe como complemento del nombre o como complemento verbal. En los ejemplos, los sintagmas preposicionales \"con más caudal\" y \"con más habitantes\" pueden actuar como complemento del nombre o del verbo que les precede.\n",
        "\n",
        "Deberás incluir también las reglas léxicas necesarias para reconocer el nuevo vocabulario.\n",
        "\n",
        "Utiliza la función definida en el Ejercicio 6 para analizar las oraciones propuestas.\n",
        "\n"
      ]
    },
    {
      "cell_type": "code",
      "metadata": {
        "id": "4gdteF6ZLQ_6"
      },
      "source": [
        "#Escribe aquí tu código Python y ejecútalo\n"
      ],
      "execution_count": null,
      "outputs": []
    }
  ]
}