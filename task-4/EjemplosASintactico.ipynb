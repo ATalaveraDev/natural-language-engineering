{
  "nbformat": 4,
  "nbformat_minor": 0,
  "metadata": {
    "colab": {
      "name": "EjemplosASintactico.ipynb",
      "provenance": [],
      "collapsed_sections": []
    },
    "kernelspec": {
      "name": "python3",
      "display_name": "Python 3"
    }
  },
  "cells": [
    {
      "cell_type": "code",
      "metadata": {
        "id": "dFRY8SK1viY6"
      },
      "source": [
        "from nltk import CFG\n",
        "grammar = CFG.fromstring(\"\"\"\n",
        " S -> NP VP\n",
        " PP -> P NP\n",
        " NP -> Det N | Det N PP\n",
        " VP -> V NP | V NP PP\n",
        " Det -> 'a' | 'the'\n",
        " N -> 'dog' | 'cat' | 'rug'\n",
        " V -> 'chased' | 'sat'\n",
        " P -> 'on' | 'in'\n",
        " \"\"\")"
      ],
      "execution_count": 63,
      "outputs": []
    },
    {
      "cell_type": "code",
      "metadata": {
        "colab": {
          "base_uri": "https://localhost:8080/"
        },
        "id": "Ol_mahEgb5pL",
        "outputId": "262b59dc-5996-427c-e965-cebca3872bf0"
      },
      "source": [
        "grammar.productions()"
      ],
      "execution_count": 64,
      "outputs": [
        {
          "output_type": "execute_result",
          "data": {
            "text/plain": [
              "[S -> NP VP,\n",
              " PP -> P NP,\n",
              " NP -> Det N,\n",
              " NP -> Det N PP,\n",
              " VP -> V NP,\n",
              " VP -> V NP PP,\n",
              " Det -> 'a',\n",
              " Det -> 'the',\n",
              " N -> 'dog',\n",
              " N -> 'cat',\n",
              " N -> 'rug',\n",
              " V -> 'chased',\n",
              " V -> 'sat',\n",
              " P -> 'on',\n",
              " P -> 'in']"
            ]
          },
          "metadata": {
            "tags": []
          },
          "execution_count": 64
        }
      ]
    },
    {
      "cell_type": "code",
      "metadata": {
        "colab": {
          "base_uri": "https://localhost:8080/"
        },
        "id": "5bQCVNxBb-tG",
        "outputId": "ecb731d0-1987-4871-c257-840dad87755f"
      },
      "source": [
        "print(\"Símbolo inicial: \" + str(grammar.start()))\n",
        "print(\"Primera regla: \"+ str(grammar.productions()[0]))\n",
        "print(\"Lado izquierdo: \" + str(grammar.productions()[0].lhs()))\n",
        "print(\"Lado derecho: \" + str(grammar.productions()[0].rhs()))\n"
      ],
      "execution_count": 45,
      "outputs": [
        {
          "output_type": "stream",
          "text": [
            "Símbolo inicial: S\n",
            "Primera regla: S -> NP VP\n",
            "Lado izquierdo: S\n",
            "Lado derecho: (NP, VP)\n"
          ],
          "name": "stdout"
        }
      ]
    },
    {
      "cell_type": "code",
      "metadata": {
        "id": "8_FF2lw5ctD-"
      },
      "source": [
        "import nltk\n",
        "file = open('grammar.cfg','r').read()\n",
        "grammar = nltk.CFG.fromstring(file)"
      ],
      "execution_count": 46,
      "outputs": []
    },
    {
      "cell_type": "code",
      "metadata": {
        "id": "6svi9dELe0IH"
      },
      "source": [
        "grammar = nltk.data.load('file:grammar.cfg')"
      ],
      "execution_count": 56,
      "outputs": []
    },
    {
      "cell_type": "code",
      "metadata": {
        "colab": {
          "base_uri": "https://localhost:8080/"
        },
        "id": "mz6s1POJfDW6",
        "outputId": "a38798b8-190b-4987-83ee-cd774ad7b23e"
      },
      "source": [
        "grammar.productions()"
      ],
      "execution_count": 57,
      "outputs": [
        {
          "output_type": "execute_result",
          "data": {
            "text/plain": [
              "[S -> NP VP,\n",
              " PP -> P NP,\n",
              " NP -> Det N,\n",
              " NP -> NP PP,\n",
              " VP -> V NP,\n",
              " VP -> VP PP,\n",
              " Det -> 'a',\n",
              " Det -> 'the',\n",
              " N -> 'dog',\n",
              " N -> 'cat',\n",
              " V -> 'chased',\n",
              " V -> 'sat',\n",
              " P -> 'on',\n",
              " P -> 'in']"
            ]
          },
          "metadata": {
            "tags": []
          },
          "execution_count": 57
        }
      ]
    },
    {
      "cell_type": "code",
      "metadata": {
        "id": "uEqDLXR9fbjF"
      },
      "source": [
        "from nltk import PCFG\n",
        "pcfg = PCFG.fromstring(\"\"\"\n",
        " S -> NP VP [1.0]\n",
        " NP -> Det N [0.5] | NP PP [0.25] | 'John' [0.1] | 'I' [0.15]\n",
        " Det -> 'the' [0.8] | 'my' [0.2]\n",
        " N -> 'man' [0.5] | 'telescope' [0.5]\n",
        " VP -> VP PP [0.1] | V NP [0.7] | V [0.2]\n",
        " V -> 'ate' [0.35] | 'saw' [0.65]\n",
        " PP -> P NP [1.0]\n",
        " P -> 'with' [0.61] | 'under' [0.39]\n",
        " \"\"\")"
      ],
      "execution_count": 36,
      "outputs": []
    },
    {
      "cell_type": "code",
      "metadata": {
        "id": "GDXqmsD4kf8u"
      },
      "source": [
        "pcfg.productions()"
      ],
      "execution_count": null,
      "outputs": []
    },
    {
      "cell_type": "code",
      "metadata": {
        "id": "rJbN6TCpkiqY"
      },
      "source": [
        "from nltk.parse import RecursiveDescentParser\n",
        "rd = RecursiveDescentParser(grammar)\n",
        "\n",
        "sentence1 = 'the cat chased the dog'\n",
        "sentence2 = 'the cat chased the dog on the rug'\n",
        "print(\"Árbol sintáctico de: \" + sentence1)\n",
        "for t in rd.parse(sentence1.split()):\n",
        "  print(t)\n",
        "print()\n",
        "print(\"Árbol sintáctico de: \" + sentence2)\n",
        "for t in rd.parse(sentence2.split()):\n",
        "  print(t)\n",
        "t.count"
      ],
      "execution_count": null,
      "outputs": []
    },
    {
      "cell_type": "code",
      "metadata": {
        "colab": {
          "base_uri": "https://localhost:8080/"
        },
        "id": "-6q4RUmpl4ZK",
        "outputId": "5d0d0fd3-6262-4770-e10c-682c38175bd7"
      },
      "source": [
        "from nltk.parse import ViterbiParser\n",
        "parser = ViterbiParser(pcfg)\n",
        "sentence3 = 'I saw the man with my telescope'.split()\n",
        "for t in parser.parse(sentence3):\n",
        "  print(t)"
      ],
      "execution_count": 78,
      "outputs": [
        {
          "output_type": "stream",
          "text": [
            "(S\n",
            "  (NP I)\n",
            "  (VP\n",
            "    (V saw)\n",
            "    (NP\n",
            "      (NP (Det the) (N man))\n",
            "      (PP (P with) (NP (Det my) (N telescope)))))) (p=0.000104081)\n"
          ],
          "name": "stdout"
        }
      ]
    },
    {
      "cell_type": "code",
      "metadata": {
        "colab": {
          "base_uri": "https://localhost:8080/"
        },
        "id": "i7rFIsvvsVDP",
        "outputId": "81392aab-4301-4f5d-adaf-63fa45271bd5"
      },
      "source": [
        "from nltk.parse import pchart\n",
        "parser = pchart.InsideChartParser(pcfg)\n",
        "for t in parser.parse(sentence3):\n",
        "  print(t)"
      ],
      "execution_count": 80,
      "outputs": [
        {
          "output_type": "stream",
          "text": [
            "(S\n",
            "  (NP I)\n",
            "  (VP\n",
            "    (V saw)\n",
            "    (NP\n",
            "      (NP (Det the) (N man))\n",
            "      (PP (P with) (NP (Det my) (N telescope)))))) (p=0.000104081)\n",
            "(S\n",
            "  (NP I)\n",
            "  (VP\n",
            "    (VP (V saw) (NP (Det the) (N man)))\n",
            "    (PP (P with) (NP (Det my) (N telescope))))) (p=4.16325e-05)\n"
          ],
          "name": "stdout"
        }
      ]
    },
    {
      "cell_type": "code",
      "metadata": {
        "id": "mmjjAd2vumTI"
      },
      "source": [
        ""
      ],
      "execution_count": null,
      "outputs": []
    }
  ]
}