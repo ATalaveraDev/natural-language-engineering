{
  "nbformat": 4,
  "nbformat_minor": 0,
  "metadata": {
    "colab": {
      "name": "Ejercicio 5.ipynb",
      "provenance": [],
      "collapsed_sections": []
    },
    "kernelspec": {
      "name": "python3",
      "display_name": "Python 3"
    }
  },
  "cells": [
    {
      "cell_type": "markdown",
      "metadata": {
        "id": "NGDgiISFtr6x"
      },
      "source": [
        "Define una función python para calcular la polisemia media de\n",
        "nombres, verbos, adjetivos y adverbios en wordNet. Con ella\n",
        "podrás constatar la veracidad de la siguiente afirmación: la\n",
        "polisemia media más alta es la de los verbos (aproximadamente\n",
        "2), seguida de los adjetivos, adverbios y nombres.\n",
        "\n",
        "**PISTA**: Sumando los sentidos de cada lema en cada categoría y\n",
        "dividiendo por el número de lemas en dicha categoría tendremos la\n",
        "polisemia media"
      ]
    },
    {
      "cell_type": "code",
      "metadata": {
        "colab": {
          "base_uri": "https://localhost:8080/"
        },
        "id": "O5AOgSeuu2om",
        "outputId": "d5822d2f-0e96-4de5-c144-97e4a0cf7f08"
      },
      "source": [
        "import nltk\n",
        "nltk.download('wordnet')\n",
        "from nltk.corpus import wordnet\n",
        "from nltk.corpus import wordnet as wn"
      ],
      "execution_count": 2,
      "outputs": [
        {
          "output_type": "stream",
          "text": [
            "[nltk_data] Downloading package wordnet to /root/nltk_data...\n",
            "[nltk_data]   Unzipping corpora/wordnet.zip.\n"
          ],
          "name": "stdout"
        }
      ]
    },
    {
      "cell_type": "code",
      "metadata": {
        "id": "Us9H6ByjkgA3"
      },
      "source": [
        "def calculatePoly():\n",
        "  result = {}\n",
        "  for category in 'nvar':\n",
        "    sumaLemmas = 0\n",
        "    for w in wn.all_lemma_names(pos=category):\n",
        "      sumaLemmas += len(list(wn.synsets(w, pos=category)))\n",
        "    result[category] = sumaLemmas/len(list(wn.all_lemma_names(pos=category)))\n",
        "  return result"
      ],
      "execution_count": 31,
      "outputs": []
    },
    {
      "cell_type": "code",
      "metadata": {
        "colab": {
          "base_uri": "https://localhost:8080/"
        },
        "id": "OX3sgYVev4ip",
        "outputId": "cf5622f5-e446-4041-f3d8-f13470c56548"
      },
      "source": [
        "calculatePoly()"
      ],
      "execution_count": 32,
      "outputs": [
        {
          "output_type": "execute_result",
          "data": {
            "text/plain": [
              "{'a': 1.406536617160948,\n",
              " 'n': 1.2610825311125826,\n",
              " 'r': 1.2532916759651864,\n",
              " 'v': 2.1865729898516784}"
            ]
          },
          "metadata": {
            "tags": []
          },
          "execution_count": 32
        }
      ]
    }
  ]
}