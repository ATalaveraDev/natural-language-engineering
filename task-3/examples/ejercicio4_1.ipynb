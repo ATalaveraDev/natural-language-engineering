{
  "nbformat": 4,
  "nbformat_minor": 0,
  "metadata": {
    "anaconda-cloud": {},
    "kernelspec": {
      "display_name": "Python 3",
      "language": "python",
      "name": "python3"
    },
    "language_info": {
      "codemirror_mode": {
        "name": "ipython",
        "version": 3
      },
      "file_extension": ".py",
      "mimetype": "text/x-python",
      "name": "python",
      "nbconvert_exporter": "python",
      "pygments_lexer": "ipython3",
      "version": "3.6.4"
    },
    "colab": {
      "name": "ejercicio4-1.ipynb",
      "provenance": []
    }
  },
  "cells": [
    {
      "cell_type": "markdown",
      "metadata": {
        "id": "9c5VlycHbZqD"
      },
      "source": [
        "# Ejercicio 4.1 WSD"
      ]
    },
    {
      "cell_type": "markdown",
      "metadata": {
        "id": "pK4dcG5vbZqI"
      },
      "source": [
        "Define una función python que dada una palabra y su categoría muestre el número de sentidos (synsets) que tiene en wordnet y para cada uno de ellos: el identificador del synset, su definición, ejemplos de uso y sus sinónimos (o lemas). Si no se indica categoría debe mostrar todos los sentidos y la información relacionada para todas las categorías. "
      ]
    },
    {
      "cell_type": "code",
      "metadata": {
        "id": "i77EnP3tbZqI",
        "colab": {
          "base_uri": "https://localhost:8080/"
        },
        "outputId": "d465f99c-f126-434a-e038-da920df2c0b6"
      },
      "source": [
        "import nltk\n",
        "nltk.download('wordnet')\n",
        "from nltk.corpus import wordnet as wn\n",
        "def word2synsets(w,p=None):\n",
        "    if (p is None):\n",
        "        senses=wn.synsets(w)\n",
        "        print(\"Total de sentidos de \"+w+\": \"+str(len(senses)))\n",
        "    else:\n",
        "        senses=wn.synsets(w,p)\n",
        "        print(\"Total de sentidos de \"+w+\", en la categoría \"+p+ \": \"+str(len(senses)))\n",
        "    for s in senses:\n",
        "        print(\" \")\n",
        "        print(\"synset: \" + str(s))\n",
        "        print(\"definición: \" + s.definition())\n",
        "        for e in s.examples():\n",
        "            print(\"ejemplo: \"+e)\n",
        "        print(\"sinónimos: \"+'-'.join(s.lemma_names()))\n",
        "        \n",
        "       "
      ],
      "execution_count": 3,
      "outputs": [
        {
          "output_type": "stream",
          "text": [
            "[nltk_data] Downloading package wordnet to /root/nltk_data...\n",
            "[nltk_data]   Package wordnet is already up-to-date!\n"
          ],
          "name": "stdout"
        }
      ]
    },
    {
      "cell_type": "markdown",
      "metadata": {
        "id": "9VE70eIubZqJ"
      },
      "source": [
        "Ejecuta la función anterior para la palabra \"dish\"."
      ]
    },
    {
      "cell_type": "code",
      "metadata": {
        "id": "nBJssFuXbZqJ",
        "colab": {
          "base_uri": "https://localhost:8080/"
        },
        "outputId": "cc0f0f1f-a6ce-432d-8527-ba80a3464c9c"
      },
      "source": [
        "word2synsets('dish')"
      ],
      "execution_count": 4,
      "outputs": [
        {
          "output_type": "stream",
          "text": [
            "Total de sentidos de dish: 8\n",
            " \n",
            "synset: Synset('dish.n.01')\n",
            "definición: a piece of dishware normally used as a container for holding or serving food\n",
            "ejemplo: we gave them a set of dishes for a wedding present\n",
            "sinónimos: dish\n",
            " \n",
            "synset: Synset('dish.n.02')\n",
            "definición: a particular item of prepared food\n",
            "ejemplo: she prepared a special dish for dinner\n",
            "sinónimos: dish\n",
            " \n",
            "synset: Synset('dish.n.03')\n",
            "definición: the quantity that a dish will hold\n",
            "ejemplo: they served me a dish of rice\n",
            "sinónimos: dish-dishful\n",
            " \n",
            "synset: Synset('smasher.n.02')\n",
            "definición: a very attractive or seductive looking woman\n",
            "sinónimos: smasher-stunner-knockout-beauty-ravisher-sweetheart-peach-lulu-looker-mantrap-dish\n",
            " \n",
            "synset: Synset('dish.n.05')\n",
            "definición: directional antenna consisting of a parabolic reflector for microwave or radio frequency radiation\n",
            "sinónimos: dish-dish_aerial-dish_antenna-saucer\n",
            " \n",
            "synset: Synset('cup_of_tea.n.01')\n",
            "definición: an activity that you like or at which you are superior\n",
            "ejemplo: chemistry is not my cup of tea\n",
            "ejemplo: his bag now is learning to play golf\n",
            "ejemplo: marriage was scarcely his dish\n",
            "sinónimos: cup_of_tea-bag-dish\n",
            " \n",
            "synset: Synset('serve.v.06')\n",
            "definición: provide (usually but not necessarily food)\n",
            "ejemplo: We serve meals for the homeless\n",
            "ejemplo: She dished out the soup at 8 P.M.\n",
            "ejemplo: The entertainers served up a lively show\n",
            "sinónimos: serve-serve_up-dish_out-dish_up-dish\n",
            " \n",
            "synset: Synset('dish.v.02')\n",
            "definición: make concave; shape like a dish\n",
            "sinónimos: dish\n"
          ],
          "name": "stdout"
        }
      ]
    },
    {
      "cell_type": "markdown",
      "metadata": {
        "id": "V2JNz4tFbZqJ"
      },
      "source": [
        "Ejecuta la función anterior para la palabra dish con categoria nombre"
      ]
    },
    {
      "cell_type": "code",
      "metadata": {
        "id": "2SxCvNPQbZqK",
        "colab": {
          "base_uri": "https://localhost:8080/"
        },
        "outputId": "17fb3464-ced4-43a1-999f-5aef2f45e09b"
      },
      "source": [
        "word2synsets('dish',wn.NOUN)"
      ],
      "execution_count": 8,
      "outputs": [
        {
          "output_type": "stream",
          "text": [
            "Total de sentidos de dish, en la categoría n: 6\n",
            " \n",
            "synset: Synset('dish.n.01')\n",
            "definición: a piece of dishware normally used as a container for holding or serving food\n",
            "ejemplo: we gave them a set of dishes for a wedding present\n",
            "sinónimos: dish\n",
            " \n",
            "synset: Synset('dish.n.02')\n",
            "definición: a particular item of prepared food\n",
            "ejemplo: she prepared a special dish for dinner\n",
            "sinónimos: dish\n",
            " \n",
            "synset: Synset('dish.n.03')\n",
            "definición: the quantity that a dish will hold\n",
            "ejemplo: they served me a dish of rice\n",
            "sinónimos: dish-dishful\n",
            " \n",
            "synset: Synset('smasher.n.02')\n",
            "definición: a very attractive or seductive looking woman\n",
            "sinónimos: smasher-stunner-knockout-beauty-ravisher-sweetheart-peach-lulu-looker-mantrap-dish\n",
            " \n",
            "synset: Synset('dish.n.05')\n",
            "definición: directional antenna consisting of a parabolic reflector for microwave or radio frequency radiation\n",
            "sinónimos: dish-dish_aerial-dish_antenna-saucer\n",
            " \n",
            "synset: Synset('cup_of_tea.n.01')\n",
            "definición: an activity that you like or at which you are superior\n",
            "ejemplo: chemistry is not my cup of tea\n",
            "ejemplo: his bag now is learning to play golf\n",
            "ejemplo: marriage was scarcely his dish\n",
            "sinónimos: cup_of_tea-bag-dish\n"
          ],
          "name": "stdout"
        }
      ]
    },
    {
      "cell_type": "code",
      "metadata": {
        "id": "vbS-hvPeelLs"
      },
      "source": [
        ""
      ],
      "execution_count": null,
      "outputs": []
    }
  ]
}