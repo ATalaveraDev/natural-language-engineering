{
  "nbformat": 4,
  "nbformat_minor": 0,
  "metadata": {
    "anaconda-cloud": {},
    "kernelspec": {
      "display_name": "Python 3",
      "language": "python",
      "name": "python3"
    },
    "language_info": {
      "codemirror_mode": {
        "name": "ipython",
        "version": 3
      },
      "file_extension": ".py",
      "mimetype": "text/x-python",
      "name": "python",
      "nbconvert_exporter": "python",
      "pygments_lexer": "ipython3",
      "version": "3.6.4"
    },
    "colab": {
      "name": "ejercicio4-2.ipynb",
      "provenance": []
    }
  },
  "cells": [
    {
      "cell_type": "markdown",
      "metadata": {
        "id": "f5GidUcpcdZk"
      },
      "source": [
        "# Ejercicio 4-2 WSD"
      ]
    },
    {
      "cell_type": "markdown",
      "metadata": {
        "id": "W1v4J7pxcdZw"
      },
      "source": [
        "Define una función python que dada una frase, la tokenize y muestre por pantalla, para cada palabra con contenido (no stopwords), su grado de ambigüedad."
      ]
    },
    {
      "cell_type": "code",
      "metadata": {
        "colab": {
          "base_uri": "https://localhost:8080/"
        },
        "id": "YQwVhOblcdZx",
        "outputId": "514fb850-38a0-4c12-e995-2cd070e08356"
      },
      "source": [
        "import nltk\n",
        "nltk.download('wordnet')\n",
        "nltk.download('punkt')\n",
        "nltk.download('stopwords')\n",
        "from nltk.corpus import wordnet as wn\n",
        "from nltk import word_tokenize\n",
        "def ambig_frase(s):\n",
        "    lista=nltk.word_tokenize(s)\n",
        "    print(\"\\n...Analizando la frase %s\" %(lista))\n",
        "    stopwords = nltk.corpus.stopwords.words('english') \n",
        "    contentwords = [w for w in lista if w.lower() not in stopwords]\n",
        "    for w in contentwords:\n",
        "        print(\"Grado de ambigüedad de \"+w+\": \" +str(len(wn.synsets(w))))\n",
        "    "
      ],
      "execution_count": 7,
      "outputs": [
        {
          "output_type": "stream",
          "text": [
            "[nltk_data] Downloading package wordnet to /root/nltk_data...\n",
            "[nltk_data]   Package wordnet is already up-to-date!\n",
            "[nltk_data] Downloading package punkt to /root/nltk_data...\n",
            "[nltk_data]   Package punkt is already up-to-date!\n",
            "[nltk_data] Downloading package stopwords to /root/nltk_data...\n",
            "[nltk_data]   Unzipping corpora/stopwords.zip.\n"
          ],
          "name": "stdout"
        }
      ]
    },
    {
      "cell_type": "markdown",
      "metadata": {
        "id": "szHQCL66cdZy"
      },
      "source": [
        "Ejecuta la función que acabas de definir sobre la frase \"I saw a man who is 98 years old and can still walk and tell jokes\""
      ]
    },
    {
      "cell_type": "code",
      "metadata": {
        "colab": {
          "base_uri": "https://localhost:8080/"
        },
        "id": "gVP64puNcdZy",
        "outputId": "8eed1ebd-4e92-4f1e-a4e0-0b1f456d7119"
      },
      "source": [
        "ambig_frase(\"I saw a man who is 98 years old and can still walk and tell jokes\")"
      ],
      "execution_count": 8,
      "outputs": [
        {
          "output_type": "stream",
          "text": [
            "\n",
            "...Analizando la frase ['I', 'saw', 'a', 'man', 'who', 'is', '98', 'years', 'old', 'and', 'can', 'still', 'walk', 'and', 'tell', 'jokes']\n",
            "Grado de ambigüedad de saw: 28\n",
            "Grado de ambigüedad de man: 13\n",
            "Grado de ambigüedad de 98: 1\n",
            "Grado de ambigüedad de years: 7\n",
            "Grado de ambigüedad de old: 9\n",
            "Grado de ambigüedad de still: 18\n",
            "Grado de ambigüedad de walk: 17\n",
            "Grado de ambigüedad de tell: 9\n",
            "Grado de ambigüedad de jokes: 6\n"
          ],
          "name": "stdout"
        }
      ]
    }
  ]
}