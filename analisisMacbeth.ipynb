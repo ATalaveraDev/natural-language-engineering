{
  "nbformat": 4,
  "nbformat_minor": 0,
  "metadata": {
    "anaconda-cloud": {},
    "kernelspec": {
      "display_name": "Python [default]",
      "language": "python",
      "name": "python3"
    },
    "language_info": {
      "codemirror_mode": {
        "name": "ipython",
        "version": 3
      },
      "file_extension": ".py",
      "mimetype": "text/x-python",
      "name": "python",
      "nbconvert_exporter": "python",
      "pygments_lexer": "ipython3",
      "version": "3.5.2"
    },
    "colab": {
      "name": "analisisMacbeth.ipynb",
      "provenance": [],
      "toc_visible": true,
      "include_colab_link": true
    }
  },
  "cells": [
    {
      "cell_type": "markdown",
      "metadata": {
        "id": "view-in-github",
        "colab_type": "text"
      },
      "source": [
        "<a href=\"https://colab.research.google.com/github/ATalaveraDev/natural-language-engineering/blob/main/analisisMacbeth.ipynb\" target=\"_parent\"><img src=\"https://colab.research.google.com/assets/colab-badge.svg\" alt=\"Open In Colab\"/></a>"
      ]
    },
    {
      "cell_type": "markdown",
      "metadata": {
        "id": "1otHRG8c4mH3"
      },
      "source": [
        "# Ejemplo: análisis de Macbeth"
      ]
    },
    {
      "cell_type": "markdown",
      "metadata": {
        "id": "l4ZFh2-m4mH8"
      },
      "source": [
        "Analiza el texto Macbeth de Shakespeare, que está en el corpus gutenberg de nltk.corpus (shakespeare-macbeth.txt). A continuación se escriben instrucciones python para:"
      ]
    },
    {
      "cell_type": "markdown",
      "metadata": {
        "id": "RaYdq91_4mH9"
      },
      "source": [
        "1.- Listar los ficheros del corpus gutenberg"
      ]
    },
    {
      "cell_type": "code",
      "metadata": {
        "colab": {
          "base_uri": "https://localhost:8080/"
        },
        "id": "RBdHyzal4mH-",
        "outputId": "0228d093-4f1b-4369-c874-51eedb9ccbf5"
      },
      "source": [
        "import nltk\n",
        "nltk.download('gutenberg')\n",
        "nltk.download('punkt')\n",
        "print(\"... Ficheros del corpus gutenberg:\")\n",
        "for fileid in (nltk.corpus.gutenberg.fileids()):\n",
        "    print(fileid)"
      ],
      "execution_count": null,
      "outputs": [
        {
          "output_type": "stream",
          "text": [
            "[nltk_data] Downloading package gutenberg to /root/nltk_data...\n",
            "[nltk_data]   Unzipping corpora/gutenberg.zip.\n",
            "[nltk_data] Downloading package punkt to /root/nltk_data...\n",
            "[nltk_data]   Unzipping tokenizers/punkt.zip.\n",
            "... Ficheros del corpus gutenberg:\n",
            "austen-emma.txt\n",
            "austen-persuasion.txt\n",
            "austen-sense.txt\n",
            "bible-kjv.txt\n",
            "blake-poems.txt\n",
            "bryant-stories.txt\n",
            "burgess-busterbrown.txt\n",
            "carroll-alice.txt\n",
            "chesterton-ball.txt\n",
            "chesterton-brown.txt\n",
            "chesterton-thursday.txt\n",
            "edgeworth-parents.txt\n",
            "melville-moby_dick.txt\n",
            "milton-paradise.txt\n",
            "shakespeare-caesar.txt\n",
            "shakespeare-hamlet.txt\n",
            "shakespeare-macbeth.txt\n",
            "whitman-leaves.txt\n"
          ],
          "name": "stdout"
        }
      ]
    },
    {
      "cell_type": "markdown",
      "metadata": {
        "id": "yi-_FAGu4mH-"
      },
      "source": [
        "2.- Función que lista, para el corpus que se indica, las longitudes medias de sus palabras y frases y la frecuencia de uso media de cada palabra (diversidad léxica)"
      ]
    },
    {
      "cell_type": "code",
      "metadata": {
        "collapsed": true,
        "id": "ij6AFFzg4mH_"
      },
      "source": [
        "def getCorpusInfo(corpus):\n",
        "    print(\"... Mostrando información de los ficheros del corpus \", corpus)\n",
        "    print(\"%s %s %s %s\" %(\"lmWord\", \"lmSent\", \"divLex\", \"texto\"))\n",
        "    for fileid in corpus.fileids():\n",
        "        noCars = len(corpus.raw(fileid))\n",
        "        noWords = len(corpus.words(fileid))\n",
        "        noSents = len(corpus.sents(fileid))\n",
        "        vocab = len(set(w.lower() for w in corpus.words(fileid)))\n",
        "        lmWord = round(noCars / noWords)\n",
        "        lmSent = round(noWords / noSents)\n",
        "        lds = round(noWords / vocab)\n",
        "        print(\"%4d %6d %6d   %s\" %(lmWord, lmSent, lds, fileid))"
      ],
      "execution_count": null,
      "outputs": []
    },
    {
      "cell_type": "markdown",
      "metadata": {
        "id": "VhIcSmT64mH_"
      },
      "source": [
        "3.- Utilizar la función anterior para obtener información sobre el corpus gutenberg"
      ]
    },
    {
      "cell_type": "code",
      "metadata": {
        "colab": {
          "base_uri": "https://localhost:8080/"
        },
        "id": "SznYUaY34mH_",
        "outputId": "02f7ff72-5b05-4169-859f-04323d7383e5"
      },
      "source": [
        "getCorpusInfo(nltk.corpus.gutenberg)"
      ],
      "execution_count": null,
      "outputs": [
        {
          "output_type": "stream",
          "text": [
            "... Mostrando información de los ficheros del corpus  <PlaintextCorpusReader in '/root/nltk_data/corpora/gutenberg'>\n",
            "lmWord lmSent divLex texto\n",
            "   5     25     26   austen-emma.txt\n",
            "   5     26     17   austen-persuasion.txt\n",
            "   5     28     22   austen-sense.txt\n",
            "   4     34     79   bible-kjv.txt\n",
            "   5     19      5   blake-poems.txt\n",
            "   4     19     14   bryant-stories.txt\n",
            "   4     18     12   burgess-busterbrown.txt\n",
            "   4     20     13   carroll-alice.txt\n",
            "   5     20     12   chesterton-ball.txt\n",
            "   5     23     11   chesterton-brown.txt\n",
            "   5     18     11   chesterton-thursday.txt\n",
            "   4     21     25   edgeworth-parents.txt\n",
            "   5     26     15   melville-moby_dick.txt\n",
            "   5     52     11   milton-paradise.txt\n",
            "   4     12      9   shakespeare-caesar.txt\n",
            "   4     12      8   shakespeare-hamlet.txt\n",
            "   4     12      7   shakespeare-macbeth.txt\n",
            "   5     36     12   whitman-leaves.txt\n"
          ],
          "name": "stdout"
        }
      ]
    },
    {
      "cell_type": "markdown",
      "metadata": {
        "id": "sUFgOU8e4mIA"
      },
      "source": [
        "4.- Obtener las frecuencias de aparición de las palabras del texto"
      ]
    },
    {
      "cell_type": "code",
      "metadata": {
        "id": "F_omnD_y4mIA",
        "colab": {
          "base_uri": "https://localhost:8080/"
        },
        "outputId": "17e6f691-1053-4ca5-f2e3-d743a44f6c9e"
      },
      "source": [
        "from nltk.corpus import gutenberg\n",
        "from nltk.corpus import stopwords\n",
        "from nltk.probability import FreqDist\n",
        "from nltk.tokenize import word_tokenize\n",
        "#for linea in open('melville-moby_dick.txt', 'r'):\n",
        "#  linea2 = ''\n",
        "#  for pal in word_tokenize(linea):\n",
        "#    if pal.lower() not in stopwords.words('english'):\n",
        "#      linea2=linea2+pal+' '\n",
        "\n",
        "fdist = FreqDist(word.lower() for word in gutenberg.words('melville-moby_dick.txt'))\n",
        "fdist.N()\n",
        "gutenberg.sents('melville-moby_dick.txt')"
      ],
      "execution_count": 29,
      "outputs": [
        {
          "output_type": "execute_result",
          "data": {
            "text/plain": [
              "[['[', 'Moby', 'Dick', 'by', 'Herman', 'Melville', '1851', ']'], ['ETYMOLOGY', '.'], ...]"
            ]
          },
          "metadata": {
            "tags": []
          },
          "execution_count": 29
        }
      ]
    },
    {
      "cell_type": "markdown",
      "metadata": {
        "id": "p4KFEBoV4mIA"
      },
      "source": [
        "5.- Mostrar la palabra mas frecuente y su probabilidad."
      ]
    },
    {
      "cell_type": "code",
      "metadata": {
        "colab": {
          "base_uri": "https://localhost:8080/"
        },
        "id": "uYqFym7z4mIA",
        "outputId": "22d9dfbf-d43a-47ac-94c7-e00ba3a023ed"
      },
      "source": [
        "print(\"... La palabra más frecuente es: \", fdist.max())\n",
        "print(\"... y su probabilidad es: \", fdist.freq(fdist.max()))"
      ],
      "execution_count": null,
      "outputs": [
        {
          "output_type": "stream",
          "text": [
            "... La palabra más frecuente es:  ,\n",
            "... y su probabilidad es:  0.08478824546240277\n"
          ],
          "name": "stdout"
        }
      ]
    },
    {
      "cell_type": "markdown",
      "metadata": {
        "id": "vLXIJ9ZG4mIB"
      },
      "source": [
        "6.- Mostrar las 20 palabras más frecuentes."
      ]
    },
    {
      "cell_type": "code",
      "metadata": {
        "colab": {
          "base_uri": "https://localhost:8080/"
        },
        "id": "CVFdcZSd4mIB",
        "outputId": "5c12cc64-1699-4854-8da7-a7bf38a69ca5"
      },
      "source": [
        "print(\"... Las 20 palabras más frecuentes en Macbeth son:\")\n",
        "fdist.pprint(20)"
      ],
      "execution_count": null,
      "outputs": [
        {
          "output_type": "stream",
          "text": [
            "... Las 20 palabras más frecuentes en Macbeth son:\n",
            "FreqDist({',': 1962, '.': 1235, 'the': 650, \"'\": 637, 'and': 546, ':': 477, 'to': 384, 'i': 348, 'of': 338, '?': 241, 'a': 241, 'that': 238, 'd': 224, 'you': 206, 'my': 203, 'in': 201, 'is': 188, 'not': 165, 'it': 161, 'with': 153, ...})\n"
          ],
          "name": "stdout"
        }
      ]
    },
    {
      "cell_type": "markdown",
      "metadata": {
        "id": "7kWZuILg4mIB"
      },
      "source": [
        "7.- Mostrar las frecuencias de aparición y probabilidades de las palabras siguientes:\n",
        "'Duncan':  rey de Escocia\n",
        "'Macbeth' y 'Banquo': generales del ejercito escocés"
      ]
    },
    {
      "cell_type": "code",
      "metadata": {
        "colab": {
          "base_uri": "https://localhost:8080/"
        },
        "id": "jc7aL46-4mIB",
        "outputId": "a6946cf4-d1f1-4b09-a7b9-cba41c7572fb"
      },
      "source": [
        "print(\"... duncan aparece %d veces\" % (fdist['duncan']))\n",
        "print(\"... macbeth aparece %d veces\" % (fdist['macbeth']))\n",
        "print(\"... banquo aparece %d veces\" % (fdist['banquo']))"
      ],
      "execution_count": null,
      "outputs": [
        {
          "output_type": "stream",
          "text": [
            "... duncan aparece 10 veces\n",
            "... macbeth aparece 62 veces\n",
            "... banquo aparece 39 veces\n"
          ],
          "name": "stdout"
        }
      ]
    },
    {
      "cell_type": "markdown",
      "metadata": {
        "id": "nAY8fnr-4mIC"
      },
      "source": [
        "8.- Mostrar el tamaño del léxico utilizado."
      ]
    },
    {
      "cell_type": "code",
      "metadata": {
        "colab": {
          "base_uri": "https://localhost:8080/"
        },
        "id": "LXH1w0DF4mIC",
        "outputId": "2fa0b8f5-6a21-42e4-93aa-2e491157f45e"
      },
      "source": [
        "vocab = fdist.keys()\n",
        "print(\"... El tamaño del léxico de Macbeth es: \", len(vocab))"
      ],
      "execution_count": null,
      "outputs": [
        {
          "output_type": "stream",
          "text": [
            "... El tamaño del léxico de Macbeth es:  3464\n"
          ],
          "name": "stdout"
        }
      ]
    },
    {
      "cell_type": "markdown",
      "metadata": {
        "id": "FZjFkVAe4mIC"
      },
      "source": [
        "9.- Mostrar cuántas palabras aparecen una sóla vez. "
      ]
    },
    {
      "cell_type": "code",
      "metadata": {
        "colab": {
          "base_uri": "https://localhost:8080/"
        },
        "id": "RWHv-Woc4mIC",
        "outputId": "86aa269a-32dc-48cd-8db1-6d798ef7e17c"
      },
      "source": [
        "raras = fdist.hapaxes()\n",
        "print(\"... El número de palabras que aparecen una sola vez es: \", len(raras))"
      ],
      "execution_count": null,
      "outputs": [
        {
          "output_type": "stream",
          "text": [
            "... El número de palabras que aparecen una sola vez es:  2082\n"
          ],
          "name": "stdout"
        }
      ]
    },
    {
      "cell_type": "markdown",
      "metadata": {
        "id": "C57h2Yg74mIC"
      },
      "source": [
        "10.- De las palabras que aparecen una sóla vez, listar 50"
      ]
    },
    {
      "cell_type": "code",
      "metadata": {
        "colab": {
          "base_uri": "https://localhost:8080/"
        },
        "id": "zH_MwNih4mIC",
        "outputId": "4df901a2-5be8-4224-907e-da1cfd478a9b"
      },
      "source": [
        "print(\"... Algunas de ellas son:\")\n",
        "print(raras[:50])"
      ],
      "execution_count": null,
      "outputs": [
        {
          "output_type": "stream",
          "text": [
            "... Algunas de ellas son:\n",
            "['herman', 'melville', ']', 'etymology', 'consumptive', 'threadbare', 'lexicons', 'mockingly', 'flags', 'mortality', 'signification', 'sw', 'hval', 'roundness', 'dut', 'ger', 'wallen', 'walw', 'ian', 'richardson', 'ketos', 'whoel', 'anglo', 'wal', 'hwal', 'swedish', 'baleine', 'ballena', 'fegee', 'erromangoan', 'librarian', 'painstaking', 'burrower', 'vaticans', 'stalls', 'higgledy', 'piggledy', 'promiscuously', 'commentator', 'belongest', 'sallow', 'sherry', 'loves', 'bluntly', 'subs', 'thankless', 'hampton', 'hie', 'refugees', 'pampered']\n"
          ],
          "name": "stdout"
        }
      ]
    }
  ]
}