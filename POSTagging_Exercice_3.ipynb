{
  "nbformat": 4,
  "nbformat_minor": 0,
  "metadata": {
    "anaconda-cloud": {},
    "kernelspec": {
      "display_name": "Python 3",
      "language": "python",
      "name": "python3"
    },
    "language_info": {
      "codemirror_mode": {
        "name": "ipython",
        "version": 3
      },
      "file_extension": ".py",
      "mimetype": "text/x-python",
      "name": "python",
      "nbconvert_exporter": "python",
      "pygments_lexer": "ipython3",
      "version": "3.6.4"
    },
    "colab": {
      "name": "POSTagging - Exercice 3.ipynb",
      "provenance": [],
      "toc_visible": true,
      "include_colab_link": true
    }
  },
  "cells": [
    {
      "cell_type": "markdown",
      "metadata": {
        "id": "view-in-github",
        "colab_type": "text"
      },
      "source": [
        "<a href=\"https://colab.research.google.com/github/ATalaveraDev/natural-language-engineering/blob/main/POSTagging_Exercice_3.ipynb\" target=\"_parent\"><img src=\"https://colab.research.google.com/assets/colab-badge.svg\" alt=\"Open In Colab\"/></a>"
      ]
    },
    {
      "cell_type": "markdown",
      "metadata": {
        "id": "35RDOsmRwZS8"
      },
      "source": [
        "# Ejemplos POS Tagging"
      ]
    },
    {
      "cell_type": "markdown",
      "metadata": {
        "id": "inImeqLqwo7D"
      },
      "source": [
        "Acceder a los elementos de un corpus"
      ]
    },
    {
      "cell_type": "code",
      "metadata": {
        "colab": {
          "base_uri": "https://localhost:8080/"
        },
        "id": "H5P6ccGHw6vN",
        "outputId": "a813bea1-2220-4694-86d0-41c653963f34"
      },
      "source": [
        "import nltk\n",
        "nltk.download('cess_esp')\n",
        "from nltk.corpus import cess_esp\n",
        "\n"
      ],
      "execution_count": 7,
      "outputs": [
        {
          "output_type": "stream",
          "text": [
            "[nltk_data] Downloading package cess_esp to /root/nltk_data...\n",
            "[nltk_data]   Package cess_esp is already up-to-date!\n"
          ],
          "name": "stdout"
        }
      ]
    },
    {
      "cell_type": "code",
      "metadata": {
        "id": "-G-zpVOyw_yX",
        "colab": {
          "base_uri": "https://localhost:8080/"
        },
        "outputId": "32d0eaeb-774d-4bca-e7be-da66fff18123"
      },
      "source": [
        "\n",
        "\n",
        "print(\"Texto parentizado:\") #texto plano con el formato parentizado de Penn TreeBank (S (SN (DT The) (NC boy)) (VP (VMI sings)))\n",
        "print(cess_esp.raw()[:300]) \n",
        "print(\"\\nOración sin etiquetar\") # oraciones del corpus sin etiquetas, sólo palabras\n",
        "for s in cess_esp.sents()[0:3]:  \n",
        "  print(s) \n",
        "print(\"\\nOración etiquetada\") # oraciones del corpus con etiquetas gramaticales\n",
        "for s in cess_esp.tagged_sents()[0:3]: \n",
        "  print(s) \n",
        "print(\"\\nPalabra etiquetada\") # palabras del corpus etiquetadas: pares (palabra, etiqueta)\n",
        "print(cess_esp.tagged_words()[0:3]) \n",
        "\n",
        "# si queremos acceder a las etiquetas:\n",
        "for (w,t) in cess_esp.tagged_words()[0:3]:  \n",
        "  print(\"\\nLa palabra {p1} está etiquetada con la etiqueta {p2}\".format(p1=w,p2=t))\n",
        "\n",
        "print(\"\\nEtiquetas de una oración\")\n",
        "for (w,t) in cess_esp.tagged_sents()[0]:\n",
        "  print (t)"
      ],
      "execution_count": 8,
      "outputs": [
        {
          "output_type": "stream",
          "text": [
            "Texto parentizado:\n",
            "\n",
            "(\n",
            "  (S\n",
            "    (sn-SUJ\n",
            "      (espec.ms\n",
            "        (da0ms0 El el))\n",
            "      (grup.nom.ms\n",
            "        (ncms000 grupo grupo)\n",
            "        (s.a.ms\n",
            "          (grup.a.ms\n",
            "            (aq0cs0 estatal estatal)))\n",
            "        (sn\n",
            "          (grup.nom.ms\n",
            "            (np00000 Electricité_de_France Electricité_de_France)\n",
            "            (s\n",
            "\n",
            "Oración sin etiquetar\n",
            "['El', 'grupo', 'estatal', 'Electricité_de_France', '-Fpa-', 'EDF', '-Fpt-', 'anunció', 'hoy', ',', 'jueves', ',', 'la', 'compra', 'del', '51_por_ciento', 'de', 'la', 'empresa', 'mexicana', 'Electricidad_Águila_de_Altamira', '-Fpa-', 'EAA', '-Fpt-', ',', 'creada', 'por', 'el', 'japonés', 'Mitsubishi_Corporation', 'para', 'poner_en_marcha', 'una', 'central', 'de', 'gas', 'de', '495', 'megavatios', '.']\n",
            "['Una', 'portavoz', 'de', 'EDF', 'explicó', 'a', 'EFE', 'que', 'el', 'proyecto', 'para', 'la', 'construcción', 'de', 'Altamira_2', ',', 'al', 'norte', 'de', 'Tampico', ',', 'prevé', 'la', 'utilización', 'de', 'gas', 'natural', 'como', 'combustible', 'principal', 'en', 'una', 'central', 'de', 'ciclo', 'combinado', 'que', 'debe', 'empezar', 'a', 'funcionar', 'en', 'mayo_del_2002', '.']\n",
            "['La', 'electricidad', 'producida', 'pasará', 'a', 'la', 'red', 'eléctrica', 'pública', 'de', 'México', 'en_virtud_de', 'un', 'acuerdo', 'de', 'venta', 'de', 'energía', 'de', 'EAA', 'con', 'la', 'Comisión_Federal_de_Electricidad', '-Fpa-', 'CFE', '-Fpt-', 'por', 'una', 'duración', 'de', '25', 'años', '.']\n",
            "\n",
            "Oración etiquetada\n",
            "[('El', 'da0ms0'), ('grupo', 'ncms000'), ('estatal', 'aq0cs0'), ('Electricité_de_France', 'np00000'), ('-Fpa-', 'Fpa'), ('EDF', 'np00000'), ('-Fpt-', 'Fpt'), ('anunció', 'vmis3s0'), ('hoy', 'rg'), (',', 'Fc'), ('jueves', 'W'), (',', 'Fc'), ('la', 'da0fs0'), ('compra', 'ncfs000'), ('del', 'spcms'), ('51_por_ciento', 'Zp'), ('de', 'sps00'), ('la', 'da0fs0'), ('empresa', 'ncfs000'), ('mexicana', 'aq0fs0'), ('Electricidad_Águila_de_Altamira', 'np00000'), ('-Fpa-', 'Fpa'), ('EAA', 'np00000'), ('-Fpt-', 'Fpt'), (',', 'Fc'), ('creada', 'aq0fsp'), ('por', 'sps00'), ('el', 'da0ms0'), ('japonés', 'aq0ms0'), ('Mitsubishi_Corporation', 'np00000'), ('para', 'sps00'), ('poner_en_marcha', 'vmn0000'), ('una', 'di0fs0'), ('central', 'ncfs000'), ('de', 'sps00'), ('gas', 'ncms000'), ('de', 'sps00'), ('495', 'Z'), ('megavatios', 'ncmp000'), ('.', 'Fp')]\n",
            "[('Una', 'di0fs0'), ('portavoz', 'nccs000'), ('de', 'sps00'), ('EDF', 'np00000'), ('explicó', 'vmis3s0'), ('a', 'sps00'), ('EFE', 'np00000'), ('que', 'cs'), ('el', 'da0ms0'), ('proyecto', 'ncms000'), ('para', 'sps00'), ('la', 'da0fs0'), ('construcción', 'ncfs000'), ('de', 'sps00'), ('Altamira_2', 'np00000'), (',', 'Fc'), ('al', 'spcms'), ('norte', 'ncms000'), ('de', 'sps00'), ('Tampico', 'np00000'), (',', 'Fc'), ('prevé', 'vmm02s0'), ('la', 'da0fs0'), ('utilización', 'ncfs000'), ('de', 'sps00'), ('gas', 'ncms000'), ('natural', 'aq0cs0'), ('como', 'cs'), ('combustible', 'ncms000'), ('principal', 'aq0cs0'), ('en', 'sps00'), ('una', 'di0fs0'), ('central', 'ncfs000'), ('de', 'sps00'), ('ciclo', 'ncms000'), ('combinado', 'aq0msp'), ('que', 'pr0cn000'), ('debe', 'vmip3s0'), ('empezar', 'vmn0000'), ('a', 'sps00'), ('funcionar', 'vmn0000'), ('en', 'sps00'), ('mayo_del_2002', 'W'), ('.', 'Fp')]\n",
            "[('La', 'da0fs0'), ('electricidad', 'ncfs000'), ('producida', 'aq0fsp'), ('pasará', 'vmif3s0'), ('a', 'sps00'), ('la', 'da0fs0'), ('red', 'ncfs000'), ('eléctrica', 'aq0fs0'), ('pública', 'aq0fs0'), ('de', 'sps00'), ('México', 'np00000'), ('en_virtud_de', 'sps00'), ('un', 'di0ms0'), ('acuerdo', 'ncms000'), ('de', 'sps00'), ('venta', 'ncfs000'), ('de', 'sps00'), ('energía', 'ncfs000'), ('de', 'sps00'), ('EAA', 'np00000'), ('con', 'sps00'), ('la', 'da0fs0'), ('Comisión_Federal_de_Electricidad', 'np00000'), ('-Fpa-', 'Fpa'), ('CFE', 'np00000'), ('-Fpt-', 'Fpt'), ('por', 'sps00'), ('una', 'di0fs0'), ('duración', 'ncfs000'), ('de', 'sps00'), ('25', 'Z'), ('años', 'ncmp000'), ('.', 'Fp')]\n",
            "\n",
            "Palabra etiquetada\n",
            "[('El', 'da0ms0'), ('grupo', 'ncms000'), ('estatal', 'aq0cs0')]\n",
            "\n",
            "La palabra El está etiquetada con la etiqueta da0ms0\n",
            "\n",
            "La palabra grupo está etiquetada con la etiqueta ncms000\n",
            "\n",
            "La palabra estatal está etiquetada con la etiqueta aq0cs0\n",
            "\n",
            "Etiquetas de una oración\n",
            "da0ms0\n",
            "ncms000\n",
            "aq0cs0\n",
            "np00000\n",
            "Fpa\n",
            "np00000\n",
            "Fpt\n",
            "vmis3s0\n",
            "rg\n",
            "Fc\n",
            "W\n",
            "Fc\n",
            "da0fs0\n",
            "ncfs000\n",
            "spcms\n",
            "Zp\n",
            "sps00\n",
            "da0fs0\n",
            "ncfs000\n",
            "aq0fs0\n",
            "np00000\n",
            "Fpa\n",
            "np00000\n",
            "Fpt\n",
            "Fc\n",
            "aq0fsp\n",
            "sps00\n",
            "da0ms0\n",
            "aq0ms0\n",
            "np00000\n",
            "sps00\n",
            "vmn0000\n",
            "di0fs0\n",
            "ncfs000\n",
            "sps00\n",
            "ncms000\n",
            "sps00\n",
            "Z\n",
            "ncmp000\n",
            "Fp\n"
          ],
          "name": "stdout"
        }
      ]
    },
    {
      "cell_type": "markdown",
      "metadata": {
        "id": "whkxRHQSc9JO"
      },
      "source": [
        "Juegos de etiquetas"
      ]
    },
    {
      "cell_type": "code",
      "metadata": {
        "id": "AlSq-L6opwR2",
        "colab": {
          "base_uri": "https://localhost:8080/"
        },
        "outputId": "d700b531-f118-4d63-8a21-f71d0e910360"
      },
      "source": [
        "nltk.download('treebank')\n",
        "nltk.download('brown')\n",
        "nltk.download('universal_tagset')\n",
        "nltk.download('tagsets')\n",
        "nltk.help.brown_tagset('NN*') # descripción de las etiquetas del corpus Brown\n",
        "print('--------------')\n",
        "nltk.help.upenn_tagset('NN*') # descripción de las etiquetas del corpus Penn Treebank"
      ],
      "execution_count": 9,
      "outputs": [
        {
          "output_type": "stream",
          "text": [
            "[nltk_data] Downloading package treebank to /root/nltk_data...\n",
            "[nltk_data]   Package treebank is already up-to-date!\n",
            "[nltk_data] Downloading package brown to /root/nltk_data...\n",
            "[nltk_data]   Package brown is already up-to-date!\n",
            "[nltk_data] Downloading package universal_tagset to /root/nltk_data...\n",
            "[nltk_data]   Package universal_tagset is already up-to-date!\n",
            "[nltk_data] Downloading package tagsets to /root/nltk_data...\n",
            "[nltk_data]   Package tagsets is already up-to-date!\n",
            "NN: noun, singular, common\n",
            "    failure burden court fire appointment awarding compensation Mayor\n",
            "    interim committee fact effect airport management surveillance jail\n",
            "    doctor intern extern night weekend duty legislation Tax Office ...\n",
            "NN$: noun, singular, common, genitive\n",
            "    season's world's player's night's chapter's golf's football's\n",
            "    baseball's club's U.'s coach's bride's bridegroom's board's county's\n",
            "    firm's company's superintendent's mob's Navy's ...\n",
            "NN+BEZ: noun, singular, common + verb 'to be', present tense, 3rd person singular\n",
            "    water's camera's sky's kid's Pa's heat's throat's father's money's\n",
            "    undersecretary's granite's level's wife's fat's Knife's fire's name's\n",
            "    hell's leg's sun's roulette's cane's guy's kind's baseball's ...\n",
            "NN+HVD: noun, singular, common + verb 'to have', past tense\n",
            "    Pa'd\n",
            "NN+HVZ: noun, singular, common + verb 'to have', present tense, 3rd person singular\n",
            "    guy's Knife's boat's summer's rain's company's\n",
            "NN+IN: noun, singular, common + preposition\n",
            "    buncha\n",
            "NN+MD: noun, singular, common + modal auxillary\n",
            "    cowhand'd sun'll\n",
            "NN+NN: noun, singular, common, hyphenated pair\n",
            "    stomach-belly\n",
            "NNS: noun, plural, common\n",
            "    irregularities presentments thanks reports voters laws legislators\n",
            "    years areas adjustments chambers $100 bonds courts sales details raises\n",
            "    sessions members congressmen votes polls calls ...\n",
            "NNS$: noun, plural, common, genitive\n",
            "    taxpayers' children's members' States' women's cutters' motorists'\n",
            "    steelmakers' hours' Nations' lawyers' prisoners' architects' tourists'\n",
            "    Employers' secretaries' Rogues' ...\n",
            "NNS+MD: noun, plural, common + modal auxillary\n",
            "    duds'd oystchers'll\n",
            "NP: noun, singular, proper\n",
            "    Fulton Atlanta September-October Durwood Pye Ivan Allen Jr. Jan.\n",
            "    Alpharetta Grady William B. Hartsfield Pearl Williams Aug. Berry J. M.\n",
            "    Cheshire Griffin Opelika Ala. E. Pelham Snodgrass ...\n",
            "NP$: noun, singular, proper, genitive\n",
            "    Green's Landis' Smith's Carreon's Allison's Boston's Spahn's Willie's\n",
            "    Mickey's Milwaukee's Mays' Howsam's Mantle's Shaw's Wagner's Rickey's\n",
            "    Shea's Palmer's Arnold's Broglio's ...\n",
            "NP+BEZ: noun, singular, proper + verb 'to be', present tense, 3rd person singular\n",
            "    W.'s Ike's Mack's Jack's Kate's Katharine's Black's Arthur's Seaton's\n",
            "    Buckhorn's Breed's Penny's Rob's Kitty's Blackwell's Myra's Wally's\n",
            "    Lucille's Springfield's Arlene's\n",
            "NP+HVZ: noun, singular, proper + verb 'to have', present tense, 3rd person singular\n",
            "    Bill's Guardino's Celie's Skolman's Crosson's Tim's Wally's\n",
            "NP+MD: noun, singular, proper + modal auxillary\n",
            "    Gyp'll John'll\n",
            "NPS: noun, plural, proper\n",
            "    Chases Aderholds Chapelles Armisteads Lockies Carbones French Marskmen\n",
            "    Toppers Franciscans Romans Cadillacs Masons Blacks Catholics British\n",
            "    Dixiecrats Mississippians Congresses ...\n",
            "NPS$: noun, plural, proper, genitive\n",
            "    Republicans' Orioles' Birds' Yanks' Redbirds' Bucs' Yankees' Stevenses'\n",
            "    Geraghtys' Burkes' Wackers' Achaeans' Dresbachs' Russians' Democrats'\n",
            "    Gershwins' Adventists' Negroes' Catholics' ...\n",
            "NR: noun, singular, adverbial\n",
            "    Friday home Wednesday Tuesday Monday Sunday Thursday yesterday tomorrow\n",
            "    tonight West East Saturday west left east downtown north northeast\n",
            "    southeast northwest North South right ...\n",
            "NR$: noun, singular, adverbial, genitive\n",
            "    Saturday's Monday's yesterday's tonight's tomorrow's Sunday's\n",
            "    Wednesday's Friday's today's Tuesday's West's Today's South's\n",
            "NR+MD: noun, singular, adverbial + modal auxillary\n",
            "    today'll\n",
            "NRS: noun, plural, adverbial\n",
            "    Sundays Mondays Saturdays Wednesdays Souths Fridays\n",
            "--------------\n",
            "NN: noun, common, singular or mass\n",
            "    common-carrier cabbage knuckle-duster Casino afghan shed thermostat\n",
            "    investment slide humour falloff slick wind hyena override subhumanity\n",
            "    machinist ...\n",
            "NNP: noun, proper, singular\n",
            "    Motown Venneboerger Czestochwa Ranzer Conchita Trumplane Christos\n",
            "    Oceanside Escobar Kreisler Sawyer Cougar Yvette Ervin ODI Darryl CTCA\n",
            "    Shannon A.K.C. Meltex Liverpool ...\n",
            "NNPS: noun, proper, plural\n",
            "    Americans Americas Amharas Amityvilles Amusements Anarcho-Syndicalists\n",
            "    Andalusians Andes Andruses Angels Animals Anthony Antilles Antiques\n",
            "    Apache Apaches Apocrypha ...\n",
            "NNS: noun, common, plural\n",
            "    undergraduates scotches bric-a-brac products bodyguards facets coasts\n",
            "    divestitures storehouses designs clubs fragrances averages\n",
            "    subjectivists apprehensions muses factory-jobs ...\n"
          ],
          "name": "stdout"
        }
      ]
    },
    {
      "cell_type": "code",
      "metadata": {
        "id": "3QNshskWdMOF",
        "colab": {
          "base_uri": "https://localhost:8080/"
        },
        "outputId": "983164a3-bfa5-4198-de53-991c380f1b1b"
      },
      "source": [
        "from nltk.corpus import treebank, brown\n",
        "print(\"Juego de etiquetas propio del corpus\")\n",
        "print(\"Trebank: \", end=''); print(treebank.tagged_sents()[0])\n",
        "print(\"Brown: \", end=''); print(brown.tagged_sents()[0])\n",
        "print(\"\\nJuego de etiquetas universal\")\n",
        "print(\"Trebank: \", end=''); print(treebank.tagged_sents(tagset='universal')[0])\n",
        "print(\"Brown: \", end=''); print(brown.tagged_sents(tagset='universal')[0])\n",
        "for i in nltk.bigrams(treebank.tagged_sents()[0]):\n",
        "  print(i)"
      ],
      "execution_count": 10,
      "outputs": [
        {
          "output_type": "stream",
          "text": [
            "Juego de etiquetas propio del corpus\n",
            "Trebank: [('Pierre', 'NNP'), ('Vinken', 'NNP'), (',', ','), ('61', 'CD'), ('years', 'NNS'), ('old', 'JJ'), (',', ','), ('will', 'MD'), ('join', 'VB'), ('the', 'DT'), ('board', 'NN'), ('as', 'IN'), ('a', 'DT'), ('nonexecutive', 'JJ'), ('director', 'NN'), ('Nov.', 'NNP'), ('29', 'CD'), ('.', '.')]\n",
            "Brown: [('The', 'AT'), ('Fulton', 'NP-TL'), ('County', 'NN-TL'), ('Grand', 'JJ-TL'), ('Jury', 'NN-TL'), ('said', 'VBD'), ('Friday', 'NR'), ('an', 'AT'), ('investigation', 'NN'), ('of', 'IN'), (\"Atlanta's\", 'NP$'), ('recent', 'JJ'), ('primary', 'NN'), ('election', 'NN'), ('produced', 'VBD'), ('``', '``'), ('no', 'AT'), ('evidence', 'NN'), (\"''\", \"''\"), ('that', 'CS'), ('any', 'DTI'), ('irregularities', 'NNS'), ('took', 'VBD'), ('place', 'NN'), ('.', '.')]\n",
            "\n",
            "Juego de etiquetas universal\n",
            "Trebank: [('Pierre', 'NOUN'), ('Vinken', 'NOUN'), (',', '.'), ('61', 'NUM'), ('years', 'NOUN'), ('old', 'ADJ'), (',', '.'), ('will', 'VERB'), ('join', 'VERB'), ('the', 'DET'), ('board', 'NOUN'), ('as', 'ADP'), ('a', 'DET'), ('nonexecutive', 'ADJ'), ('director', 'NOUN'), ('Nov.', 'NOUN'), ('29', 'NUM'), ('.', '.')]\n",
            "Brown: [('The', 'DET'), ('Fulton', 'NOUN'), ('County', 'NOUN'), ('Grand', 'ADJ'), ('Jury', 'NOUN'), ('said', 'VERB'), ('Friday', 'NOUN'), ('an', 'DET'), ('investigation', 'NOUN'), ('of', 'ADP'), (\"Atlanta's\", 'NOUN'), ('recent', 'ADJ'), ('primary', 'NOUN'), ('election', 'NOUN'), ('produced', 'VERB'), ('``', '.'), ('no', 'DET'), ('evidence', 'NOUN'), (\"''\", '.'), ('that', 'ADP'), ('any', 'DET'), ('irregularities', 'NOUN'), ('took', 'VERB'), ('place', 'NOUN'), ('.', '.')]\n",
            "(('Pierre', 'NNP'), ('Vinken', 'NNP'))\n",
            "(('Vinken', 'NNP'), (',', ','))\n",
            "((',', ','), ('61', 'CD'))\n",
            "(('61', 'CD'), ('years', 'NNS'))\n",
            "(('years', 'NNS'), ('old', 'JJ'))\n",
            "(('old', 'JJ'), (',', ','))\n",
            "((',', ','), ('will', 'MD'))\n",
            "(('will', 'MD'), ('join', 'VB'))\n",
            "(('join', 'VB'), ('the', 'DT'))\n",
            "(('the', 'DT'), ('board', 'NN'))\n",
            "(('board', 'NN'), ('as', 'IN'))\n",
            "(('as', 'IN'), ('a', 'DT'))\n",
            "(('a', 'DT'), ('nonexecutive', 'JJ'))\n",
            "(('nonexecutive', 'JJ'), ('director', 'NN'))\n",
            "(('director', 'NN'), ('Nov.', 'NNP'))\n",
            "(('Nov.', 'NNP'), ('29', 'CD'))\n",
            "(('29', 'CD'), ('.', '.'))\n"
          ],
          "name": "stdout"
        }
      ]
    },
    {
      "cell_type": "markdown",
      "metadata": {
        "id": "Mf-utaISjtW7"
      },
      "source": [
        "\n",
        "Utilizar el etiquetador de NLTK"
      ]
    },
    {
      "cell_type": "code",
      "metadata": {
        "id": "fzIcl2w7u5l_",
        "colab": {
          "base_uri": "https://localhost:8080/"
        },
        "outputId": "253686f0-7a82-4ca7-c5b2-d5acb8c638f1"
      },
      "source": [
        "nltk.download('punkt')\n",
        "nltk.download('averaged_perceptron_tagger')\n",
        "from nltk import word_tokenize\n",
        "text = word_tokenize(\"They refuse to permit us to obtain the refuse permit.\")\n",
        "pprint.pprint(nltk.pos_tag(text)) #utiliza el juego de etiquetas de Penn Treebank\n",
        "pprint.pprint(nltk.pos_tag(text,tagset='universal'))\n"
      ],
      "execution_count": 12,
      "outputs": [
        {
          "output_type": "stream",
          "text": [
            "[nltk_data] Downloading package punkt to /root/nltk_data...\n",
            "[nltk_data]   Unzipping tokenizers/punkt.zip.\n",
            "[nltk_data] Downloading package averaged_perceptron_tagger to\n",
            "[nltk_data]     /root/nltk_data...\n",
            "[nltk_data]   Unzipping taggers/averaged_perceptron_tagger.zip.\n",
            "[('They', 'PRP'),\n",
            " ('refuse', 'VBP'),\n",
            " ('to', 'TO'),\n",
            " ('permit', 'VB'),\n",
            " ('us', 'PRP'),\n",
            " ('to', 'TO'),\n",
            " ('obtain', 'VB'),\n",
            " ('the', 'DT'),\n",
            " ('refuse', 'NN'),\n",
            " ('permit', 'NN'),\n",
            " ('.', '.')]\n",
            "[('They', 'PRON'),\n",
            " ('refuse', 'VERB'),\n",
            " ('to', 'PRT'),\n",
            " ('permit', 'VERB'),\n",
            " ('us', 'PRON'),\n",
            " ('to', 'PRT'),\n",
            " ('obtain', 'VERB'),\n",
            " ('the', 'DET'),\n",
            " ('refuse', 'NOUN'),\n",
            " ('permit', 'NOUN'),\n",
            " ('.', '.')]\n"
          ],
          "name": "stdout"
        }
      ]
    },
    {
      "cell_type": "markdown",
      "metadata": {
        "id": "CEil_A6OwZS9"
      },
      "source": [
        "Aprendizaje y evaluación de etiquetadores "
      ]
    },
    {
      "cell_type": "code",
      "metadata": {
        "id": "KqdTmtAswZS-"
      },
      "source": [
        "import pprint\n",
        "from nltk.tag import UnigramTagger, BigramTagger, TrigramTagger\n",
        "from nltk.corpus import treebank"
      ],
      "execution_count": 13,
      "outputs": []
    },
    {
      "cell_type": "code",
      "metadata": {
        "colab": {
          "base_uri": "https://localhost:8080/"
        },
        "id": "e-N4tC_wkU6S",
        "outputId": "90610e07-171b-4cff-d3e7-3c8e192f01bb"
      },
      "source": [
        "from nltk import DefaultTagger\n",
        "tagger = DefaultTagger('NN')\n",
        "texto = word_tokenize(\"Hello world.\")\n",
        "tagger.tag(texto)"
      ],
      "execution_count": 14,
      "outputs": [
        {
          "output_type": "execute_result",
          "data": {
            "text/plain": [
              "[('Hello', 'NN'), ('world', 'NN'), ('.', 'NN')]"
            ]
          },
          "metadata": {
            "tags": []
          },
          "execution_count": 14
        }
      ]
    },
    {
      "cell_type": "code",
      "metadata": {
        "colab": {
          "base_uri": "https://localhost:8080/"
        },
        "id": "IXUV7XWbk5aU",
        "outputId": "34eaff71-39dc-4762-f2a8-53d48549d3cf"
      },
      "source": [
        "from nltk.tokenize import sent_tokenize\n",
        "oraciones = sent_tokenize(\"Hello world. How are you?\")\n",
        "tokens = []\n",
        "for s in oraciones:\n",
        "  tokens.append(word_tokenize(s))\n",
        "tagger.tag_sents(tokens)"
      ],
      "execution_count": 15,
      "outputs": [
        {
          "output_type": "execute_result",
          "data": {
            "text/plain": [
              "[[('Hello', 'NN'), ('world', 'NN'), ('.', 'NN')],\n",
              " [('How', 'NN'), ('are', 'NN'), ('you', 'NN'), ('?', 'NN')]]"
            ]
          },
          "metadata": {
            "tags": []
          },
          "execution_count": 15
        }
      ]
    },
    {
      "cell_type": "code",
      "metadata": {
        "colab": {
          "base_uri": "https://localhost:8080/"
        },
        "id": "9xhifaNmqhgC",
        "outputId": "aaa1bd88-8223-4f0c-c690-9537669a7ffc"
      },
      "source": [
        "from nltk.corpus import treebank\n",
        "test_sents = treebank.tagged_sents()[3000:]\n",
        "tagger.evaluate(test_sents)"
      ],
      "execution_count": 16,
      "outputs": [
        {
          "output_type": "execute_result",
          "data": {
            "text/plain": [
              "0.14331966328512843"
            ]
          },
          "metadata": {
            "tags": []
          },
          "execution_count": 16
        }
      ]
    },
    {
      "cell_type": "markdown",
      "metadata": {
        "id": "RBZSpT2awZS_"
      },
      "source": [
        "Modelo de unigramas"
      ]
    },
    {
      "cell_type": "markdown",
      "metadata": {
        "id": "ZcZPcO2dwZS-"
      },
      "source": [
        "(a) Definición del conjunto de frases de entrenamiento (el 90%) y de test (el 10%)"
      ]
    },
    {
      "cell_type": "code",
      "metadata": {
        "id": "Om1CGfuEwZS_"
      },
      "source": [
        "talla = int(len(treebank.tagged_sents()) * 0.9)\n",
        "train_sents = treebank.tagged_sents(tagset = 'universal')[:talla]\n",
        "test_sents = treebank.tagged_sents(tagset = 'universal')[talla:]"
      ],
      "execution_count": 17,
      "outputs": []
    },
    {
      "cell_type": "markdown",
      "metadata": {
        "id": "XR4t-ZPc6s8A"
      },
      "source": [
        "(b) Aprender el modelo de unigramas"
      ]
    },
    {
      "cell_type": "code",
      "metadata": {
        "id": "chp6yDWawZS_"
      },
      "source": [
        "unigram_tagger = UnigramTagger(train_sents)"
      ],
      "execution_count": 18,
      "outputs": []
    },
    {
      "cell_type": "markdown",
      "metadata": {
        "id": "TkqpkvWz6xL0"
      },
      "source": [
        "(c) Etiquetar (primera oración del test)"
      ]
    },
    {
      "cell_type": "code",
      "metadata": {
        "colab": {
          "base_uri": "https://localhost:8080/"
        },
        "id": "DouVB6z72QrP",
        "outputId": "ced9632a-4f29-4cc4-9acb-b987dcc9311c"
      },
      "source": [
        "sent1=treebank.sents()[talla]\n",
        "print(sent1)\n",
        "print(unigram_tagger.tag(sent1))"
      ],
      "execution_count": 19,
      "outputs": [
        {
          "output_type": "stream",
          "text": [
            "['Kalamazoo', ',', 'Mich.-based', 'First', 'of', 'America', 'said', '0', 'it', 'will', 'eliminate', 'the', '13', 'management', 'positions', 'of', 'the', 'former', 'Midwest', 'Financial', 'parent', 'company', '.']\n",
            "[('Kalamazoo', None), (',', '.'), ('Mich.-based', None), ('First', 'NOUN'), ('of', 'ADP'), ('America', 'NOUN'), ('said', 'VERB'), ('0', 'X'), ('it', 'PRON'), ('will', 'VERB'), ('eliminate', 'VERB'), ('the', 'DET'), ('13', 'NUM'), ('management', 'NOUN'), ('positions', 'NOUN'), ('of', 'ADP'), ('the', 'DET'), ('former', 'ADJ'), ('Midwest', 'NOUN'), ('Financial', 'NOUN'), ('parent', 'NOUN'), ('company', 'NOUN'), ('.', '.')]\n"
          ],
          "name": "stdout"
        }
      ]
    },
    {
      "cell_type": "markdown",
      "metadata": {
        "id": "m9XSeocU63ro"
      },
      "source": [
        "(d) Evaluar"
      ]
    },
    {
      "cell_type": "code",
      "metadata": {
        "colab": {
          "base_uri": "https://localhost:8080/"
        },
        "id": "VpTY2vCS5UJE",
        "outputId": "af3746ad-97ed-4dc0-d632-217f429bcccf"
      },
      "source": [
        "okUni = round(unigram_tagger.evaluate(test_sents) * 100, 2);\n",
        "print(\"Unigramas: \" + str(okUni) + \"%\")"
      ],
      "execution_count": 20,
      "outputs": [
        {
          "output_type": "stream",
          "text": [
            "Unigramas: 88.16%\n"
          ],
          "name": "stdout"
        }
      ]
    },
    {
      "cell_type": "markdown",
      "metadata": {
        "id": "BeWfFOSQwZTA"
      },
      "source": [
        "Modelo de bigramas"
      ]
    },
    {
      "cell_type": "code",
      "metadata": {
        "id": "BuQvoUzhwZTA",
        "colab": {
          "base_uri": "https://localhost:8080/"
        },
        "outputId": "4169104e-7a3c-4ec2-e7f4-e5d019754d0d"
      },
      "source": [
        "bigram_tagger = BigramTagger(train_sents)\n",
        "sent1=treebank.sents()[talla]\n",
        "print(sent1)\n",
        "print(bigram_tagger.tag(sent1))\n",
        "okBi = round(bigram_tagger.evaluate(test_sents) * 100, 2);\n",
        "print(\"Tasas de acierto:\")\n",
        "print(\"Bigramas: \" + str(okBi) + \"%\")"
      ],
      "execution_count": 21,
      "outputs": [
        {
          "output_type": "stream",
          "text": [
            "['Kalamazoo', ',', 'Mich.-based', 'First', 'of', 'America', 'said', '0', 'it', 'will', 'eliminate', 'the', '13', 'management', 'positions', 'of', 'the', 'former', 'Midwest', 'Financial', 'parent', 'company', '.']\n",
            "[('Kalamazoo', None), (',', None), ('Mich.-based', None), ('First', None), ('of', None), ('America', None), ('said', None), ('0', None), ('it', None), ('will', None), ('eliminate', None), ('the', None), ('13', None), ('management', None), ('positions', None), ('of', None), ('the', None), ('former', None), ('Midwest', None), ('Financial', None), ('parent', None), ('company', None), ('.', None)]\n",
            "Tasas de acierto:\n",
            "Bigramas: 15.63%\n"
          ],
          "name": "stdout"
        }
      ]
    },
    {
      "cell_type": "markdown",
      "metadata": {
        "id": "Pcmk18OwwZTD"
      },
      "source": [
        "Etiquetador por defecto, usando la etiqueta más frecuente"
      ]
    },
    {
      "cell_type": "code",
      "metadata": {
        "id": "pT6UKWaLwZTD",
        "colab": {
          "base_uri": "https://localhost:8080/"
        },
        "outputId": "16d5cc97-074d-4c0b-ba36-02a94e9e92e8"
      },
      "source": [
        "import pprint\n",
        "from nltk.corpus import treebank\n",
        "from nltk.tag import DefaultTagger\n",
        "from nltk.probability import FreqDist\n",
        "tags = [tag for (word, tag) in treebank.tagged_words(tagset='universal')]\n",
        "masFTag = FreqDist(tags).max()\n",
        "default_tagger = DefaultTagger(masFTag)\n",
        "print(default_tagger.tag(sent1))\n",
        "okDef = round(default_tagger.evaluate(test_sents) * 100, 2);\n",
        "print(\"Tasas de acierto:\")\n",
        "print(\"Default Tagger: \" + str(okDef) + \"%\")\n"
      ],
      "execution_count": 22,
      "outputs": [
        {
          "output_type": "stream",
          "text": [
            "[('Kalamazoo', 'NOUN'), (',', 'NOUN'), ('Mich.-based', 'NOUN'), ('First', 'NOUN'), ('of', 'NOUN'), ('America', 'NOUN'), ('said', 'NOUN'), ('0', 'NOUN'), ('it', 'NOUN'), ('will', 'NOUN'), ('eliminate', 'NOUN'), ('the', 'NOUN'), ('13', 'NOUN'), ('management', 'NOUN'), ('positions', 'NOUN'), ('of', 'NOUN'), ('the', 'NOUN'), ('former', 'NOUN'), ('Midwest', 'NOUN'), ('Financial', 'NOUN'), ('parent', 'NOUN'), ('company', 'NOUN'), ('.', 'NOUN')]\n",
            "Tasas de acierto:\n",
            "Default Tagger: 30.36%\n"
          ],
          "name": "stdout"
        }
      ]
    },
    {
      "cell_type": "markdown",
      "metadata": {
        "id": "InZBpaURwZTF"
      },
      "source": [
        "Definición y evaluación de un etiquetador usando backoff"
      ]
    },
    {
      "cell_type": "markdown",
      "metadata": {
        "id": "gVJqF7UTwZTF"
      },
      "source": [
        "(a) Definición del etiquetador backoff"
      ]
    },
    {
      "cell_type": "code",
      "metadata": {
        "id": "vPvU2wVzwZTF"
      },
      "source": [
        "unigram_tagger = UnigramTagger(train_sents, backoff = default_tagger)\n",
        "backoff_tagger = BigramTagger(train_sents, backoff= unigram_tagger)"
      ],
      "execution_count": 23,
      "outputs": []
    },
    {
      "cell_type": "markdown",
      "metadata": {
        "id": "o15sFj38wZTF"
      },
      "source": [
        "(b) Evaluación del etiquetador backoff"
      ]
    },
    {
      "cell_type": "code",
      "metadata": {
        "id": "8UIYTPNwwZTG",
        "colab": {
          "base_uri": "https://localhost:8080/"
        },
        "outputId": "2c9bf032-025b-48cc-d398-5fc919614898"
      },
      "source": [
        "okBiBO = round(backoff_tagger.evaluate(test_sents) * 100, 2);\n",
        "print(\"Bigramas - backoff: \" + str(okBiBO) + \"%\")"
      ],
      "execution_count": 24,
      "outputs": [
        {
          "output_type": "stream",
          "text": [
            "Bigramas - backoff: 93.97%\n"
          ],
          "name": "stdout"
        }
      ]
    },
    {
      "cell_type": "markdown",
      "metadata": {
        "id": "fuMa5_TCwZTG"
      },
      "source": [
        "(c) Etiquetado de la primera frase del test"
      ]
    },
    {
      "cell_type": "code",
      "metadata": {
        "id": "AGAoh5D0wZTG",
        "colab": {
          "base_uri": "https://localhost:8080/"
        },
        "outputId": "887f4db3-0a80-4086-e07f-410013ead5de"
      },
      "source": [
        "sent1 = treebank.sents()[talla+1]\n",
        "print(sent1)\n",
        "tag = backoff_tagger.tag(sent1)\n",
        "pprint.pprint(tag)"
      ],
      "execution_count": 25,
      "outputs": [
        {
          "output_type": "stream",
          "text": [
            "['First', 'of', 'America', 'said', '0', 'some', 'of', 'the', 'managers', 'will', 'take', 'other', 'jobs', 'with', 'First', 'of', 'America', '.']\n",
            "[('First', 'NOUN'),\n",
            " ('of', 'ADP'),\n",
            " ('America', 'NOUN'),\n",
            " ('said', 'VERB'),\n",
            " ('0', 'X'),\n",
            " ('some', 'DET'),\n",
            " ('of', 'ADP'),\n",
            " ('the', 'DET'),\n",
            " ('managers', 'NOUN'),\n",
            " ('will', 'VERB'),\n",
            " ('take', 'VERB'),\n",
            " ('other', 'ADJ'),\n",
            " ('jobs', 'NOUN'),\n",
            " ('with', 'ADP'),\n",
            " ('First', 'NOUN'),\n",
            " ('of', 'ADP'),\n",
            " ('America', 'NOUN'),\n",
            " ('.', '.')]\n"
          ],
          "name": "stdout"
        }
      ]
    },
    {
      "cell_type": "markdown",
      "metadata": {
        "id": "9t56xH2xaYCK"
      },
      "source": [
        "Ejercicio 3"
      ]
    },
    {
      "cell_type": "code",
      "metadata": {
        "id": "exPUJEs4wZTH",
        "colab": {
          "base_uri": "https://localhost:8080/"
        },
        "outputId": "f16ca3f6-a170-44c4-ed14-0f3032f5c062"
      },
      "source": [
        "import nltk\n",
        "nltk.download('cess_esp')\n",
        "from nltk.corpus import cess_esp\n",
        "import pprint\n",
        "from nltk.tag import UnigramTagger, BigramTagger, TrigramTagger\n",
        "from nltk.corpus import treebank\n",
        "\n",
        "nltk.download('treebank')\n",
        "nltk.download('brown')\n",
        "nltk.download('universal_tagset')\n",
        "nltk.download('tagsets')\n",
        "nltk.help.brown_tagset('NN*') # descripción de las etiquetas del corpus Brown\n",
        "print('--------------')\n",
        "nltk.help.upenn_tagset('NN*') # descripción de las etiquetas del corpus Penn Treebank\n",
        "\n",
        "# definicion del corpus de entrenamiento\n",
        "talla = int(len(treebank.tagged_sents()) * 0.9)\n",
        "train_sents = treebank.tagged_sents(tagset = 'universal')[:talla]\n",
        "test_sents = treebank.tagged_sents(tagset = 'universal')[talla:]"
      ],
      "execution_count": 26,
      "outputs": [
        {
          "output_type": "stream",
          "text": [
            "[nltk_data] Downloading package cess_esp to /root/nltk_data...\n",
            "[nltk_data]   Package cess_esp is already up-to-date!\n",
            "[nltk_data] Downloading package treebank to /root/nltk_data...\n",
            "[nltk_data]   Package treebank is already up-to-date!\n",
            "[nltk_data] Downloading package brown to /root/nltk_data...\n",
            "[nltk_data]   Package brown is already up-to-date!\n",
            "[nltk_data] Downloading package universal_tagset to /root/nltk_data...\n",
            "[nltk_data]   Package universal_tagset is already up-to-date!\n",
            "[nltk_data] Downloading package tagsets to /root/nltk_data...\n",
            "[nltk_data]   Package tagsets is already up-to-date!\n",
            "NN: noun, singular, common\n",
            "    failure burden court fire appointment awarding compensation Mayor\n",
            "    interim committee fact effect airport management surveillance jail\n",
            "    doctor intern extern night weekend duty legislation Tax Office ...\n",
            "NN$: noun, singular, common, genitive\n",
            "    season's world's player's night's chapter's golf's football's\n",
            "    baseball's club's U.'s coach's bride's bridegroom's board's county's\n",
            "    firm's company's superintendent's mob's Navy's ...\n",
            "NN+BEZ: noun, singular, common + verb 'to be', present tense, 3rd person singular\n",
            "    water's camera's sky's kid's Pa's heat's throat's father's money's\n",
            "    undersecretary's granite's level's wife's fat's Knife's fire's name's\n",
            "    hell's leg's sun's roulette's cane's guy's kind's baseball's ...\n",
            "NN+HVD: noun, singular, common + verb 'to have', past tense\n",
            "    Pa'd\n",
            "NN+HVZ: noun, singular, common + verb 'to have', present tense, 3rd person singular\n",
            "    guy's Knife's boat's summer's rain's company's\n",
            "NN+IN: noun, singular, common + preposition\n",
            "    buncha\n",
            "NN+MD: noun, singular, common + modal auxillary\n",
            "    cowhand'd sun'll\n",
            "NN+NN: noun, singular, common, hyphenated pair\n",
            "    stomach-belly\n",
            "NNS: noun, plural, common\n",
            "    irregularities presentments thanks reports voters laws legislators\n",
            "    years areas adjustments chambers $100 bonds courts sales details raises\n",
            "    sessions members congressmen votes polls calls ...\n",
            "NNS$: noun, plural, common, genitive\n",
            "    taxpayers' children's members' States' women's cutters' motorists'\n",
            "    steelmakers' hours' Nations' lawyers' prisoners' architects' tourists'\n",
            "    Employers' secretaries' Rogues' ...\n",
            "NNS+MD: noun, plural, common + modal auxillary\n",
            "    duds'd oystchers'll\n",
            "NP: noun, singular, proper\n",
            "    Fulton Atlanta September-October Durwood Pye Ivan Allen Jr. Jan.\n",
            "    Alpharetta Grady William B. Hartsfield Pearl Williams Aug. Berry J. M.\n",
            "    Cheshire Griffin Opelika Ala. E. Pelham Snodgrass ...\n",
            "NP$: noun, singular, proper, genitive\n",
            "    Green's Landis' Smith's Carreon's Allison's Boston's Spahn's Willie's\n",
            "    Mickey's Milwaukee's Mays' Howsam's Mantle's Shaw's Wagner's Rickey's\n",
            "    Shea's Palmer's Arnold's Broglio's ...\n",
            "NP+BEZ: noun, singular, proper + verb 'to be', present tense, 3rd person singular\n",
            "    W.'s Ike's Mack's Jack's Kate's Katharine's Black's Arthur's Seaton's\n",
            "    Buckhorn's Breed's Penny's Rob's Kitty's Blackwell's Myra's Wally's\n",
            "    Lucille's Springfield's Arlene's\n",
            "NP+HVZ: noun, singular, proper + verb 'to have', present tense, 3rd person singular\n",
            "    Bill's Guardino's Celie's Skolman's Crosson's Tim's Wally's\n",
            "NP+MD: noun, singular, proper + modal auxillary\n",
            "    Gyp'll John'll\n",
            "NPS: noun, plural, proper\n",
            "    Chases Aderholds Chapelles Armisteads Lockies Carbones French Marskmen\n",
            "    Toppers Franciscans Romans Cadillacs Masons Blacks Catholics British\n",
            "    Dixiecrats Mississippians Congresses ...\n",
            "NPS$: noun, plural, proper, genitive\n",
            "    Republicans' Orioles' Birds' Yanks' Redbirds' Bucs' Yankees' Stevenses'\n",
            "    Geraghtys' Burkes' Wackers' Achaeans' Dresbachs' Russians' Democrats'\n",
            "    Gershwins' Adventists' Negroes' Catholics' ...\n",
            "NR: noun, singular, adverbial\n",
            "    Friday home Wednesday Tuesday Monday Sunday Thursday yesterday tomorrow\n",
            "    tonight West East Saturday west left east downtown north northeast\n",
            "    southeast northwest North South right ...\n",
            "NR$: noun, singular, adverbial, genitive\n",
            "    Saturday's Monday's yesterday's tonight's tomorrow's Sunday's\n",
            "    Wednesday's Friday's today's Tuesday's West's Today's South's\n",
            "NR+MD: noun, singular, adverbial + modal auxillary\n",
            "    today'll\n",
            "NRS: noun, plural, adverbial\n",
            "    Sundays Mondays Saturdays Wednesdays Souths Fridays\n",
            "--------------\n",
            "NN: noun, common, singular or mass\n",
            "    common-carrier cabbage knuckle-duster Casino afghan shed thermostat\n",
            "    investment slide humour falloff slick wind hyena override subhumanity\n",
            "    machinist ...\n",
            "NNP: noun, proper, singular\n",
            "    Motown Venneboerger Czestochwa Ranzer Conchita Trumplane Christos\n",
            "    Oceanside Escobar Kreisler Sawyer Cougar Yvette Ervin ODI Darryl CTCA\n",
            "    Shannon A.K.C. Meltex Liverpool ...\n",
            "NNPS: noun, proper, plural\n",
            "    Americans Americas Amharas Amityvilles Amusements Anarcho-Syndicalists\n",
            "    Andalusians Andes Andruses Angels Animals Anthony Antilles Antiques\n",
            "    Apache Apaches Apocrypha ...\n",
            "NNS: noun, common, plural\n",
            "    undergraduates scotches bric-a-brac products bodyguards facets coasts\n",
            "    divestitures storehouses designs clubs fragrances averages\n",
            "    subjectivists apprehensions muses factory-jobs ...\n"
          ],
          "name": "stdout"
        }
      ]
    },
    {
      "cell_type": "code",
      "metadata": {
        "colab": {
          "base_uri": "https://localhost:8080/"
        },
        "id": "cZ-_WYOjcJBt",
        "outputId": "56e97813-c507-4970-b825-9ec73562777c"
      },
      "source": [
        "# Aprender el modelo de Trigramas\n",
        "trigram_tagger = TrigramTagger(train_sents)\n",
        "\n",
        "# Etiquetar\n",
        "sent1=treebank.sents()[talla]\n",
        "print(sent1)\n",
        "print(trigram_tagger.tag(sent1))\n",
        "\n",
        "# Evaluar\n",
        "okTri = round(trigram_tagger.evaluate(test_sents) * 100, 2);\n",
        "print(\"Tasas de acierto:\")\n",
        "print(\"Trigramas: \" + str(okTri) + \"%\")"
      ],
      "execution_count": 27,
      "outputs": [
        {
          "output_type": "stream",
          "text": [
            "['Kalamazoo', ',', 'Mich.-based', 'First', 'of', 'America', 'said', '0', 'it', 'will', 'eliminate', 'the', '13', 'management', 'positions', 'of', 'the', 'former', 'Midwest', 'Financial', 'parent', 'company', '.']\n",
            "[('Kalamazoo', None), (',', None), ('Mich.-based', None), ('First', None), ('of', None), ('America', None), ('said', None), ('0', None), ('it', None), ('will', None), ('eliminate', None), ('the', None), ('13', None), ('management', None), ('positions', None), ('of', None), ('the', None), ('former', None), ('Midwest', None), ('Financial', None), ('parent', None), ('company', None), ('.', None)]\n",
            "Tasas de acierto:\n",
            "Trigramas: 9.1%\n"
          ],
          "name": "stdout"
        }
      ]
    },
    {
      "cell_type": "code",
      "metadata": {
        "colab": {
          "base_uri": "https://localhost:8080/"
        },
        "id": "b7pDH4S6d6R-",
        "outputId": "d4c0e7c4-38f5-4cbb-8f79-ef8444364774"
      },
      "source": [
        "# 3 Suaviza el etiquetador de trigramas con un modelo backoff que encadene los etiquetadores de bigramas, unigramas y por defecto.\n",
        "unigram_tagger = UnigramTagger(train_sents, backoff = default_tagger)\n",
        "backoff_tagger = BigramTagger(train_sents, backoff= unigram_tagger)\n",
        "trigram_tagger = TrigramTagger(train_sents, backoff= backoff_tagger)\n",
        "okTriBO = round(trigram_tagger.evaluate(test_sents) * 100, 2);\n",
        "print(\"Trigramas - backoff: \" + str(okTriBO) + \"%\")"
      ],
      "execution_count": 28,
      "outputs": [
        {
          "output_type": "stream",
          "text": [
            "Trigramas - backoff: 94.02%\n"
          ],
          "name": "stdout"
        }
      ]
    },
    {
      "cell_type": "markdown",
      "metadata": {
        "id": "aKJfVm28gZwR"
      },
      "source": [
        "Repite el experimento utilizando el conjunto de etiquetas\n",
        "original del treebank y compara los resultados."
      ]
    },
    {
      "cell_type": "code",
      "metadata": {
        "colab": {
          "base_uri": "https://localhost:8080/"
        },
        "id": "TirBIe9ygbxU",
        "outputId": "2ad05f5f-a2d8-464b-baf0-6a0a90f57823"
      },
      "source": [
        "# definicion del corpus de entrenamiento\n",
        "talla = int(len(treebank.tagged_sents()) * 0.9)\n",
        "train_sents = treebank.tagged_sents()[:talla]\n",
        "test_sents = treebank.tagged_sents()[talla:]\n",
        "\n",
        "# Aprender el modelo de Trigramas\n",
        "trigram_tagger = TrigramTagger(train_sents)\n",
        "\n",
        "# Etiquetar\n",
        "sent1=treebank.sents()[talla]\n",
        "print(sent1)\n",
        "print(trigram_tagger.tag(sent1))\n",
        "\n",
        "# Evaluar\n",
        "okTri = round(trigram_tagger.evaluate(test_sents) * 100, 2);\n",
        "print(\"Tasas de acierto:\")\n",
        "print(\"Trigramas: \" + str(okTri) + \"%\")\n",
        "\n",
        "unigram_tagger = UnigramTagger(train_sents, backoff = default_tagger)\n",
        "backoff_tagger = BigramTagger(train_sents, backoff= unigram_tagger)\n",
        "trigram_tagger = TrigramTagger(train_sents, backoff= backoff_tagger)\n",
        "okTriBO = round(trigram_tagger.evaluate(test_sents) * 100, 2);\n",
        "print(\"Trigramas - backoff: \" + str(okTriBO) + \"%\")"
      ],
      "execution_count": 29,
      "outputs": [
        {
          "output_type": "stream",
          "text": [
            "['Kalamazoo', ',', 'Mich.-based', 'First', 'of', 'America', 'said', '0', 'it', 'will', 'eliminate', 'the', '13', 'management', 'positions', 'of', 'the', 'former', 'Midwest', 'Financial', 'parent', 'company', '.']\n",
            "[('Kalamazoo', None), (',', None), ('Mich.-based', None), ('First', None), ('of', None), ('America', None), ('said', None), ('0', None), ('it', None), ('will', None), ('eliminate', None), ('the', None), ('13', None), ('management', None), ('positions', None), ('of', None), ('the', None), ('former', None), ('Midwest', None), ('Financial', None), ('parent', None), ('company', None), ('.', None)]\n",
            "Tasas de acierto:\n",
            "Trigramas: 7.93%\n",
            "Trigramas - backoff: 87.27%\n"
          ],
          "name": "stdout"
        }
      ]
    }
  ]
}